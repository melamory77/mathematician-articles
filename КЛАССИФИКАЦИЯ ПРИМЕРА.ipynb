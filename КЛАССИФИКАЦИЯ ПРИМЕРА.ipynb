{
 "cells": [
  {
   "cell_type": "code",
   "execution_count": null,
   "metadata": {},
   "outputs": [],
   "source": [
    "import requests\n",
    "journal_code='mzm'\n",
    "paper_id=4119\n",
    "\n",
    "url_full_text = f'http://www.mathnet.ru/php/getFT.phtml?jrnid={journal_code}&paperid={paper_id}&what=fullt&option_lang=rus'\n",
    "url_summary = f'http://www.mathnet.ru/php/archive.phtml?wshow=paper&jrnid={journal_code}&paperid={paper_id}&option_lang=rus'\n",
    "\n",
    "filename_pdf = f'{journal_code}-{paper_id}.pdf'\n",
    "filename_summary = f'{journal_code}-{paper_id}-resume.html'\n",
    "response_text = requests.get(url_full_text)\n",
    "response_summary = requests.get(url_summary)\n",
    "f = open(filename_pdf, 'w+b')\n",
    "f.write(response_text.content)\n",
    "f.close()\n",
    "f = open(filename_summary, 'w+b')\n",
    "f.write(response_summary.content)\n",
    "f.close()"
   ]
  },
  {
   "cell_type": "code",
   "execution_count": 1,
   "metadata": {},
   "outputs": [
    {
     "name": "stderr",
     "output_type": "stream",
     "text": [
      "[nltk_data] Downloading package stopwords to\n",
      "[nltk_data]     C:\\Users\\lalsk\\AppData\\Roaming\\nltk_data...\n",
      "[nltk_data]   Package stopwords is already up-to-date!\n",
      "C:\\Users\\lalsk\\anaconda3\\lib\\site-packages\\gensim\\similarities\\__init__.py:15: UserWarning: The gensim.similarities.levenshtein submodule is disabled, because the optional Levenshtein package <https://pypi.org/project/python-Levenshtein/> is unavailable. Install Levenhstein (e.g. `pip install python-Levenshtein`) to suppress this warning.\n",
      "  warnings.warn(msg)\n"
     ]
    }
   ],
   "source": [
    "import os\n",
    "import re, string\n",
    "import pandas as pd\n",
    "import numpy as np\n",
    "import nltk\n",
    "nltk.download(\"stopwords\")\n",
    "from nltk.corpus import stopwords\n",
    "from nltk.stem.snowball import SnowballStemmer\n",
    "from gensim.models import Phrases\n",
    "from gensim.corpora.dictionary import Dictionary\n",
    "from numpy import array\n",
    "from gensim.models.ldamulticore import LdaMulticore\n",
    "from sklearn.feature_extraction.text import TfidfVectorizer\n",
    "import joblib\n",
    "from bs4 import BeautifulSoup"
   ]
  },
  {
   "cell_type": "code",
   "execution_count": 2,
   "metadata": {},
   "outputs": [],
   "source": [
    "import aspose.words as aw"
   ]
  },
  {
   "cell_type": "code",
   "execution_count": 3,
   "metadata": {},
   "outputs": [
    {
     "name": "stdout",
     "output_type": "stream",
     "text": [
      "issledovanie-konechnyh-algebraicheskih-struktur-v-sisteme-maxima.pdf convert.txt\n"
     ]
    },
    {
     "ename": "KeyboardInterrupt",
     "evalue": "",
     "output_type": "error",
     "traceback": [
      "\u001b[1;31m---------------------------------------------------------------------------\u001b[0m",
      "\u001b[1;31mKeyboardInterrupt\u001b[0m                         Traceback (most recent call last)",
      "\u001b[1;32m<ipython-input-3-b8f31784fea6>\u001b[0m in \u001b[0;36m<module>\u001b[1;34m\u001b[0m\n\u001b[0;32m      6\u001b[0m         \u001b[0mdoc\u001b[0m \u001b[1;33m=\u001b[0m \u001b[0maw\u001b[0m\u001b[1;33m.\u001b[0m\u001b[0mDocument\u001b[0m\u001b[1;33m(\u001b[0m\u001b[0mmy_file\u001b[0m\u001b[1;33m)\u001b[0m\u001b[1;33m\u001b[0m\u001b[1;33m\u001b[0m\u001b[0m\n\u001b[0;32m      7\u001b[0m         \u001b[1;31m#doc.save(my_file + \" convert\" +\".txt\")\u001b[0m\u001b[1;33m\u001b[0m\u001b[1;33m\u001b[0m\u001b[1;33m\u001b[0m\u001b[0m\n\u001b[1;32m----> 8\u001b[1;33m         \u001b[0mdoc\u001b[0m\u001b[1;33m.\u001b[0m\u001b[0msave\u001b[0m\u001b[1;33m(\u001b[0m\u001b[1;34m'C:/Users/lalsk/Desktop/d/статьи/test2/'\u001b[0m \u001b[1;33m+\u001b[0m \u001b[0mfilename\u001b[0m \u001b[1;33m+\u001b[0m \u001b[1;34m\" convert\"\u001b[0m \u001b[1;33m+\u001b[0m\u001b[1;34m\".txt\"\u001b[0m\u001b[1;33m)\u001b[0m\u001b[1;33m\u001b[0m\u001b[1;33m\u001b[0m\u001b[0m\n\u001b[0m",
      "\u001b[1;31mKeyboardInterrupt\u001b[0m: "
     ]
    }
   ],
   "source": [
    "for dirname, _, filenames in os.walk('C:/Users/lalsk/Desktop/d/статьи/test2'):\n",
    "    for filename in filenames:\n",
    "        print(filename)\n",
    "        #files.append(filename)\n",
    "        my_file = os.path.join(dirname, filename)\n",
    "        doc = aw.Document(my_file)\n",
    "        #doc.save(my_file + \" convert\" +\".txt\")\n",
    "        doc.save('C:/Users/lalsk/Desktop/d/статьи/test2/' + filename + \" convert\" +\".txt\")"
   ]
  },
  {
   "cell_type": "code",
   "execution_count": 19,
   "metadata": {},
   "outputs": [],
   "source": [
    "articles = []\n",
    "for dirname, _, filenames in os.walk('C:/Users/lalsk/Desktop/d/статьи/test2'):\n",
    "    for filename in filenames:\n",
    "        #print(filename)\n",
    "        my_file = os.path.join(dirname, filename)\n",
    "        file = open(my_file,'r',encoding = \"utf-8\")\n",
    "        temp = file.read()\n",
    "        articles.append(temp)"
   ]
  },
  {
   "cell_type": "code",
   "execution_count": 20,
   "metadata": {},
   "outputs": [],
   "source": [
    "article = articles[0]"
   ]
  },
  {
   "cell_type": "code",
   "execution_count": 21,
   "metadata": {},
   "outputs": [],
   "source": [
    "stop = ['это','\\ufeff', '1', '2', '3', '4', '5', '6', '7', '8', '9', '0', 'км','наш','который', 'теорема', 'лемма','Общероссийский',\n",
    "           'математический','портал']\n",
    "stop_tags = stopwords.words('russian') + stop + stopwords.words('english')\n",
    "regex = re.compile('[%s]' % re.escape(string.punctuation)) \n",
    "stemmer = SnowballStemmer(\"russian\")"
   ]
  },
  {
   "cell_type": "code",
   "execution_count": 22,
   "metadata": {},
   "outputs": [],
   "source": [
    "def preprocessing(text):\n",
    "    text = text.replace('\\n',' ')\n",
    "    text = re.sub(r'[.,\"\\'-?:!;]', '', text)\n",
    "    text = re.sub(r'[a-zA-Z]', '', text)\n",
    "    text = re.sub(r'[λ,τ,χ,σ,ε,×,∈,−,ω,∩,⊆,≤,α,ξ,∆,η,£,•,—,✷,ω,∀,∃,ℵ,¬,β,π,σ,∼,§,❅,γ,θ,¯,→,∗,№,≺,ψ,≡,∨,ϕ,∞,δ,⊥,❁,⊕,◦,⊗,µ,∪,·,∂,∅,ρ]', '', text)\n",
    "    text = re.sub(r'\\s+[а-яА-Я]\\s+', ' ', text)\n",
    "    text = re.sub(r'\\^[а-яА-Я]\\s+', ' ', text)\n",
    "    text = re.sub(r'\\s+[а-яА-Я]\\^', ' ', text)\n",
    "    text = regex.sub('', text) # удаляем пунктуацию\n",
    "    text = re.sub(r'^b\\s+', '', text)\n",
    "    text = [token for token in text.split(' ') if token not in stop_tags] # Удаляем стоп слова\n",
    "    text = [stemmer.stem(token) for token in text] # Выполняем стэмминг        \n",
    "    text = [token for token in text if token] # Удаляем пустые токены\n",
    "    return ' '.join(text)"
   ]
  },
  {
   "cell_type": "code",
   "execution_count": 23,
   "metadata": {},
   "outputs": [],
   "source": [
    "prep_article =  preprocessing(article)"
   ]
  },
  {
   "cell_type": "code",
   "execution_count": 24,
   "metadata": {},
   "outputs": [],
   "source": [
    "text_clean_test= []\n",
    "for j in list(prep_article.lower().split(' ')):\n",
    "                text_clean_test.append(j.split())"
   ]
  },
  {
   "cell_type": "code",
   "execution_count": 25,
   "metadata": {},
   "outputs": [],
   "source": [
    "bigrams_test = []\n",
    "trigrams_test= []\n",
    "for i in range(len(text_clean_test)):\n",
    "    bigram = Phrases(text_clean_test[i]) # Создаем биграммы на основе корпуса\n",
    "    trigram = Phrases(bigram[text_clean_test[i]])# Создаем триграммы на основе корпуса\n",
    "    bigrams_test.append(bigram)\n",
    "    trigrams_test.append(trigram)"
   ]
  },
  {
   "cell_type": "code",
   "execution_count": 26,
   "metadata": {},
   "outputs": [],
   "source": [
    "for j in range(len(text_clean_test)):\n",
    "    for i in range(len(text_clean_test[j])):\n",
    "        for token in bigrams_test[j][text_clean_test[j][i]]:\n",
    "            if '_' in token:\n",
    "                # Токен это биграмма, добавим в документ.\n",
    "                text_clean_test[j][i].append(token)\n",
    "        for token in trigrams_test[j][text_clean_test[j][i]]:\n",
    "            if '_' in token:\n",
    "                text_clean_test[j][i].append(token)"
   ]
  },
  {
   "cell_type": "code",
   "execution_count": 27,
   "metadata": {},
   "outputs": [],
   "source": [
    "from gensim import corpora"
   ]
  },
  {
   "cell_type": "code",
   "execution_count": 28,
   "metadata": {},
   "outputs": [],
   "source": [
    "dictionary = corpora.Dictionary.load('C:/Users/lalsk/Desktop/d/1/dictionary.dict')"
   ]
  },
  {
   "cell_type": "code",
   "execution_count": 29,
   "metadata": {},
   "outputs": [
    {
     "name": "stdout",
     "output_type": "stream",
     "text": [
      "Количество уникальных токенов: 13284\n",
      "Количество документов: 964\n"
     ]
    }
   ],
   "source": [
    "list_topics_test = []\n",
    "corpus = [dictionary.doc2bow(doc) for doc in text_clean_test]\n",
    "print('Количество уникальных токенов: %d' % len(dictionary))\n",
    "print('Количество документов: %d' % len(corpus))\n",
    "model=LdaMulticore(corpus=corpus,id2word=dictionary, num_topics=14)\n",
    "temp_list = []\n",
    "if (model != 0):\n",
    "    for j in range(4):\n",
    "        temp_list.append(model.show_topic(j,topn=14))\n",
    "else: \n",
    "    temp_list.append('0')\n",
    "list_topics_test.append(temp_list)"
   ]
  },
  {
   "cell_type": "code",
   "execution_count": 30,
   "metadata": {},
   "outputs": [],
   "source": [
    "keywords_test = []\n",
    "for i in range(len(list_topics_test)):\n",
    "    temp_list = []\n",
    "    for j in range(len(list_topics_test[i])):\n",
    "        for k in range(len(list_topics_test[i][j])):\n",
    "            temp_list.append(list_topics_test[i][j][k][0])\n",
    "    keywords_test.append(temp_list)"
   ]
  },
  {
   "cell_type": "code",
   "execution_count": 31,
   "metadata": {},
   "outputs": [],
   "source": [
    "keywords_t = keywords_test[0]"
   ]
  },
  {
   "cell_type": "code",
   "execution_count": null,
   "metadata": {},
   "outputs": [],
   "source": []
  },
  {
   "cell_type": "code",
   "execution_count": null,
   "metadata": {},
   "outputs": [],
   "source": []
  },
  {
   "cell_type": "code",
   "execution_count": 32,
   "metadata": {},
   "outputs": [],
   "source": [
    "keywords_train = pd.read_csv('C:/Users/lalsk/Desktop/d/files/keywords_train.csv')"
   ]
  },
  {
   "cell_type": "code",
   "execution_count": 33,
   "metadata": {},
   "outputs": [],
   "source": [
    "keywords_=keywords_train['keywords'].tolist()"
   ]
  },
  {
   "cell_type": "code",
   "execution_count": 34,
   "metadata": {},
   "outputs": [
    {
     "data": {
      "text/plain": [
       "str"
      ]
     },
     "execution_count": 34,
     "metadata": {},
     "output_type": "execute_result"
    }
   ],
   "source": [
    "type(keywords_[0])"
   ]
  },
  {
   "cell_type": "code",
   "execution_count": 35,
   "metadata": {},
   "outputs": [],
   "source": [
    "for i in range(len(keywords_)):\n",
    "    keywords_[i] = keywords_[i].replace('[','')\n",
    "    keywords_[i] = keywords_[i].replace(']','')\n",
    "    keywords_[i] = keywords_[i].replace(',','')\n",
    "    keywords_[i] = re.sub(r'[''.,\"\\'-?:!;€'']', '', keywords_[i])"
   ]
  },
  {
   "cell_type": "code",
   "execution_count": 36,
   "metadata": {},
   "outputs": [],
   "source": [
    "keywords_t = \" \".join(keywords_t)"
   ]
  },
  {
   "cell_type": "code",
   "execution_count": 37,
   "metadata": {},
   "outputs": [],
   "source": [
    "keywords_.append(keywords_t)"
   ]
  },
  {
   "cell_type": "code",
   "execution_count": 38,
   "metadata": {},
   "outputs": [],
   "source": [
    "from sklearn.feature_extraction.text import TfidfVectorizer"
   ]
  },
  {
   "cell_type": "code",
   "execution_count": 39,
   "metadata": {},
   "outputs": [],
   "source": [
    "tfidfconverter = TfidfVectorizer(max_features=1000,max_df=0.7)"
   ]
  },
  {
   "cell_type": "code",
   "execution_count": 25,
   "metadata": {},
   "outputs": [],
   "source": [
    "keywords_train_vectorized = tfidfconverter.fit_transform(keywords_).toarray()"
   ]
  },
  {
   "cell_type": "code",
   "execution_count": 26,
   "metadata": {},
   "outputs": [
    {
     "data": {
      "text/html": [
       "<div>\n",
       "<style scoped>\n",
       "    .dataframe tbody tr th:only-of-type {\n",
       "        vertical-align: middle;\n",
       "    }\n",
       "\n",
       "    .dataframe tbody tr th {\n",
       "        vertical-align: top;\n",
       "    }\n",
       "\n",
       "    .dataframe thead th {\n",
       "        text-align: right;\n",
       "    }\n",
       "</style>\n",
       "<table border=\"1\" class=\"dataframe\">\n",
       "  <thead>\n",
       "    <tr style=\"text-align: right;\">\n",
       "      <th></th>\n",
       "      <th>0</th>\n",
       "      <th>1</th>\n",
       "      <th>2</th>\n",
       "      <th>3</th>\n",
       "      <th>4</th>\n",
       "      <th>5</th>\n",
       "      <th>6</th>\n",
       "      <th>7</th>\n",
       "      <th>8</th>\n",
       "      <th>9</th>\n",
       "      <th>...</th>\n",
       "      <th>990</th>\n",
       "      <th>991</th>\n",
       "      <th>992</th>\n",
       "      <th>993</th>\n",
       "      <th>994</th>\n",
       "      <th>995</th>\n",
       "      <th>996</th>\n",
       "      <th>997</th>\n",
       "      <th>998</th>\n",
       "      <th>999</th>\n",
       "    </tr>\n",
       "  </thead>\n",
       "  <tbody>\n",
       "    <tr>\n",
       "      <th>0</th>\n",
       "      <td>0.0</td>\n",
       "      <td>0.0</td>\n",
       "      <td>0.0</td>\n",
       "      <td>0.0</td>\n",
       "      <td>0.0</td>\n",
       "      <td>0.0</td>\n",
       "      <td>0.0</td>\n",
       "      <td>0.0</td>\n",
       "      <td>0.0</td>\n",
       "      <td>0.0</td>\n",
       "      <td>...</td>\n",
       "      <td>0.000000</td>\n",
       "      <td>0.0</td>\n",
       "      <td>0.0</td>\n",
       "      <td>0.0</td>\n",
       "      <td>0.0</td>\n",
       "      <td>0.000000</td>\n",
       "      <td>0.0</td>\n",
       "      <td>0.0</td>\n",
       "      <td>0.000000</td>\n",
       "      <td>0.000000</td>\n",
       "    </tr>\n",
       "    <tr>\n",
       "      <th>1</th>\n",
       "      <td>0.0</td>\n",
       "      <td>0.0</td>\n",
       "      <td>0.0</td>\n",
       "      <td>0.0</td>\n",
       "      <td>0.0</td>\n",
       "      <td>0.0</td>\n",
       "      <td>0.0</td>\n",
       "      <td>0.0</td>\n",
       "      <td>0.0</td>\n",
       "      <td>0.0</td>\n",
       "      <td>...</td>\n",
       "      <td>0.000000</td>\n",
       "      <td>0.0</td>\n",
       "      <td>0.0</td>\n",
       "      <td>0.0</td>\n",
       "      <td>0.0</td>\n",
       "      <td>0.074340</td>\n",
       "      <td>0.0</td>\n",
       "      <td>0.0</td>\n",
       "      <td>0.000000</td>\n",
       "      <td>0.000000</td>\n",
       "    </tr>\n",
       "    <tr>\n",
       "      <th>2</th>\n",
       "      <td>0.0</td>\n",
       "      <td>0.0</td>\n",
       "      <td>0.0</td>\n",
       "      <td>0.0</td>\n",
       "      <td>0.0</td>\n",
       "      <td>0.0</td>\n",
       "      <td>0.0</td>\n",
       "      <td>0.0</td>\n",
       "      <td>0.0</td>\n",
       "      <td>0.0</td>\n",
       "      <td>...</td>\n",
       "      <td>0.000000</td>\n",
       "      <td>0.0</td>\n",
       "      <td>0.0</td>\n",
       "      <td>0.0</td>\n",
       "      <td>0.0</td>\n",
       "      <td>0.000000</td>\n",
       "      <td>0.0</td>\n",
       "      <td>0.0</td>\n",
       "      <td>0.000000</td>\n",
       "      <td>0.176958</td>\n",
       "    </tr>\n",
       "    <tr>\n",
       "      <th>3</th>\n",
       "      <td>0.0</td>\n",
       "      <td>0.0</td>\n",
       "      <td>0.0</td>\n",
       "      <td>0.0</td>\n",
       "      <td>0.0</td>\n",
       "      <td>0.0</td>\n",
       "      <td>0.0</td>\n",
       "      <td>0.0</td>\n",
       "      <td>0.0</td>\n",
       "      <td>0.0</td>\n",
       "      <td>...</td>\n",
       "      <td>0.000000</td>\n",
       "      <td>0.0</td>\n",
       "      <td>0.0</td>\n",
       "      <td>0.0</td>\n",
       "      <td>0.0</td>\n",
       "      <td>0.096307</td>\n",
       "      <td>0.0</td>\n",
       "      <td>0.0</td>\n",
       "      <td>0.000000</td>\n",
       "      <td>0.000000</td>\n",
       "    </tr>\n",
       "    <tr>\n",
       "      <th>4</th>\n",
       "      <td>0.0</td>\n",
       "      <td>0.0</td>\n",
       "      <td>0.0</td>\n",
       "      <td>0.0</td>\n",
       "      <td>0.0</td>\n",
       "      <td>0.0</td>\n",
       "      <td>0.0</td>\n",
       "      <td>0.0</td>\n",
       "      <td>0.0</td>\n",
       "      <td>0.0</td>\n",
       "      <td>...</td>\n",
       "      <td>0.192658</td>\n",
       "      <td>0.0</td>\n",
       "      <td>0.0</td>\n",
       "      <td>0.0</td>\n",
       "      <td>0.0</td>\n",
       "      <td>0.082304</td>\n",
       "      <td>0.0</td>\n",
       "      <td>0.0</td>\n",
       "      <td>0.180471</td>\n",
       "      <td>0.000000</td>\n",
       "    </tr>\n",
       "    <tr>\n",
       "      <th>...</th>\n",
       "      <td>...</td>\n",
       "      <td>...</td>\n",
       "      <td>...</td>\n",
       "      <td>...</td>\n",
       "      <td>...</td>\n",
       "      <td>...</td>\n",
       "      <td>...</td>\n",
       "      <td>...</td>\n",
       "      <td>...</td>\n",
       "      <td>...</td>\n",
       "      <td>...</td>\n",
       "      <td>...</td>\n",
       "      <td>...</td>\n",
       "      <td>...</td>\n",
       "      <td>...</td>\n",
       "      <td>...</td>\n",
       "      <td>...</td>\n",
       "      <td>...</td>\n",
       "      <td>...</td>\n",
       "      <td>...</td>\n",
       "      <td>...</td>\n",
       "    </tr>\n",
       "    <tr>\n",
       "      <th>3125</th>\n",
       "      <td>0.0</td>\n",
       "      <td>0.0</td>\n",
       "      <td>0.0</td>\n",
       "      <td>0.0</td>\n",
       "      <td>0.0</td>\n",
       "      <td>0.0</td>\n",
       "      <td>0.0</td>\n",
       "      <td>0.0</td>\n",
       "      <td>0.0</td>\n",
       "      <td>0.0</td>\n",
       "      <td>...</td>\n",
       "      <td>0.000000</td>\n",
       "      <td>0.0</td>\n",
       "      <td>0.0</td>\n",
       "      <td>0.0</td>\n",
       "      <td>0.0</td>\n",
       "      <td>0.000000</td>\n",
       "      <td>0.0</td>\n",
       "      <td>0.0</td>\n",
       "      <td>0.000000</td>\n",
       "      <td>0.000000</td>\n",
       "    </tr>\n",
       "    <tr>\n",
       "      <th>3126</th>\n",
       "      <td>0.0</td>\n",
       "      <td>0.0</td>\n",
       "      <td>0.0</td>\n",
       "      <td>0.0</td>\n",
       "      <td>0.0</td>\n",
       "      <td>0.0</td>\n",
       "      <td>0.0</td>\n",
       "      <td>0.0</td>\n",
       "      <td>0.0</td>\n",
       "      <td>0.0</td>\n",
       "      <td>...</td>\n",
       "      <td>0.000000</td>\n",
       "      <td>0.0</td>\n",
       "      <td>0.0</td>\n",
       "      <td>0.0</td>\n",
       "      <td>0.0</td>\n",
       "      <td>0.000000</td>\n",
       "      <td>0.0</td>\n",
       "      <td>0.0</td>\n",
       "      <td>0.000000</td>\n",
       "      <td>0.000000</td>\n",
       "    </tr>\n",
       "    <tr>\n",
       "      <th>3127</th>\n",
       "      <td>0.0</td>\n",
       "      <td>0.0</td>\n",
       "      <td>0.0</td>\n",
       "      <td>0.0</td>\n",
       "      <td>0.0</td>\n",
       "      <td>0.0</td>\n",
       "      <td>0.0</td>\n",
       "      <td>0.0</td>\n",
       "      <td>0.0</td>\n",
       "      <td>0.0</td>\n",
       "      <td>...</td>\n",
       "      <td>0.000000</td>\n",
       "      <td>0.0</td>\n",
       "      <td>0.0</td>\n",
       "      <td>0.0</td>\n",
       "      <td>0.0</td>\n",
       "      <td>0.000000</td>\n",
       "      <td>0.0</td>\n",
       "      <td>0.0</td>\n",
       "      <td>0.000000</td>\n",
       "      <td>0.000000</td>\n",
       "    </tr>\n",
       "    <tr>\n",
       "      <th>3128</th>\n",
       "      <td>0.0</td>\n",
       "      <td>0.0</td>\n",
       "      <td>0.0</td>\n",
       "      <td>0.0</td>\n",
       "      <td>0.0</td>\n",
       "      <td>0.0</td>\n",
       "      <td>0.0</td>\n",
       "      <td>0.0</td>\n",
       "      <td>0.0</td>\n",
       "      <td>0.0</td>\n",
       "      <td>...</td>\n",
       "      <td>0.000000</td>\n",
       "      <td>0.0</td>\n",
       "      <td>0.0</td>\n",
       "      <td>0.0</td>\n",
       "      <td>0.0</td>\n",
       "      <td>0.000000</td>\n",
       "      <td>0.0</td>\n",
       "      <td>0.0</td>\n",
       "      <td>0.000000</td>\n",
       "      <td>0.000000</td>\n",
       "    </tr>\n",
       "    <tr>\n",
       "      <th>3129</th>\n",
       "      <td>0.0</td>\n",
       "      <td>0.0</td>\n",
       "      <td>0.0</td>\n",
       "      <td>0.0</td>\n",
       "      <td>0.0</td>\n",
       "      <td>0.0</td>\n",
       "      <td>0.0</td>\n",
       "      <td>0.0</td>\n",
       "      <td>0.0</td>\n",
       "      <td>0.0</td>\n",
       "      <td>...</td>\n",
       "      <td>0.000000</td>\n",
       "      <td>0.0</td>\n",
       "      <td>0.0</td>\n",
       "      <td>0.0</td>\n",
       "      <td>0.0</td>\n",
       "      <td>0.000000</td>\n",
       "      <td>0.0</td>\n",
       "      <td>0.0</td>\n",
       "      <td>0.000000</td>\n",
       "      <td>0.000000</td>\n",
       "    </tr>\n",
       "  </tbody>\n",
       "</table>\n",
       "<p>3130 rows × 1000 columns</p>\n",
       "</div>"
      ],
      "text/plain": [
       "      0    1    2    3    4    5    6    7    8    9    ...       990  991  \\\n",
       "0     0.0  0.0  0.0  0.0  0.0  0.0  0.0  0.0  0.0  0.0  ...  0.000000  0.0   \n",
       "1     0.0  0.0  0.0  0.0  0.0  0.0  0.0  0.0  0.0  0.0  ...  0.000000  0.0   \n",
       "2     0.0  0.0  0.0  0.0  0.0  0.0  0.0  0.0  0.0  0.0  ...  0.000000  0.0   \n",
       "3     0.0  0.0  0.0  0.0  0.0  0.0  0.0  0.0  0.0  0.0  ...  0.000000  0.0   \n",
       "4     0.0  0.0  0.0  0.0  0.0  0.0  0.0  0.0  0.0  0.0  ...  0.192658  0.0   \n",
       "...   ...  ...  ...  ...  ...  ...  ...  ...  ...  ...  ...       ...  ...   \n",
       "3125  0.0  0.0  0.0  0.0  0.0  0.0  0.0  0.0  0.0  0.0  ...  0.000000  0.0   \n",
       "3126  0.0  0.0  0.0  0.0  0.0  0.0  0.0  0.0  0.0  0.0  ...  0.000000  0.0   \n",
       "3127  0.0  0.0  0.0  0.0  0.0  0.0  0.0  0.0  0.0  0.0  ...  0.000000  0.0   \n",
       "3128  0.0  0.0  0.0  0.0  0.0  0.0  0.0  0.0  0.0  0.0  ...  0.000000  0.0   \n",
       "3129  0.0  0.0  0.0  0.0  0.0  0.0  0.0  0.0  0.0  0.0  ...  0.000000  0.0   \n",
       "\n",
       "      992  993  994       995  996  997       998       999  \n",
       "0     0.0  0.0  0.0  0.000000  0.0  0.0  0.000000  0.000000  \n",
       "1     0.0  0.0  0.0  0.074340  0.0  0.0  0.000000  0.000000  \n",
       "2     0.0  0.0  0.0  0.000000  0.0  0.0  0.000000  0.176958  \n",
       "3     0.0  0.0  0.0  0.096307  0.0  0.0  0.000000  0.000000  \n",
       "4     0.0  0.0  0.0  0.082304  0.0  0.0  0.180471  0.000000  \n",
       "...   ...  ...  ...       ...  ...  ...       ...       ...  \n",
       "3125  0.0  0.0  0.0  0.000000  0.0  0.0  0.000000  0.000000  \n",
       "3126  0.0  0.0  0.0  0.000000  0.0  0.0  0.000000  0.000000  \n",
       "3127  0.0  0.0  0.0  0.000000  0.0  0.0  0.000000  0.000000  \n",
       "3128  0.0  0.0  0.0  0.000000  0.0  0.0  0.000000  0.000000  \n",
       "3129  0.0  0.0  0.0  0.000000  0.0  0.0  0.000000  0.000000  \n",
       "\n",
       "[3130 rows x 1000 columns]"
      ]
     },
     "execution_count": 26,
     "metadata": {},
     "output_type": "execute_result"
    }
   ],
   "source": [
    "df5 = pd.DataFrame(keywords_train_vectorized)\n",
    "df5.dropna()"
   ]
  },
  {
   "cell_type": "code",
   "execution_count": 27,
   "metadata": {},
   "outputs": [],
   "source": [
    "classifer = joblib.load(\"Rforest.pkl\")"
   ]
  },
  {
   "cell_type": "code",
   "execution_count": 28,
   "metadata": {},
   "outputs": [],
   "source": [
    "new_observation = []"
   ]
  },
  {
   "cell_type": "code",
   "execution_count": 29,
   "metadata": {},
   "outputs": [],
   "source": [
    "new_observation.append(df5.iloc[3129].tolist())"
   ]
  },
  {
   "cell_type": "code",
   "execution_count": 30,
   "metadata": {},
   "outputs": [
    {
     "data": {
      "text/plain": [
       "array(['512'], dtype='<U11')"
      ]
     },
     "execution_count": 30,
     "metadata": {},
     "output_type": "execute_result"
    }
   ],
   "source": [
    "classifer.predict(new_observation)"
   ]
  },
  {
   "cell_type": "code",
   "execution_count": 31,
   "metadata": {},
   "outputs": [
    {
     "data": {
      "text/plain": [
       "[[[('нижн', 0.0030910922),\n",
       "   ('точност', 0.0030881537),\n",
       "   ('коммутативн', 0.0030868624),\n",
       "   ('индекс', 0.0020842555),\n",
       "   ('структур', 0.0020831812),\n",
       "   ('процедур', 0.0020822554),\n",
       "   ('развива', 0.0010788733),\n",
       "   ('классическ', 0.0010786756),\n",
       "   ('полност', 0.0010786578),\n",
       "   ('наложен', 0.0010780917),\n",
       "   ('мультипликативн', 0.0010780878),\n",
       "   ('применя', 0.0010780834),\n",
       "   ('материал', 0.0010780043),\n",
       "   ('произведен', 0.0010779846)],\n",
       "  [('элемент', 0.00603742),\n",
       "   ('под', 0.0020607465),\n",
       "   ('математик', 0.0020603456),\n",
       "   ('алгебр', 0.0020602474),\n",
       "   ('сложен', 0.0020597542),\n",
       "   ('числ', 0.002059135),\n",
       "   ('структур', 0.0020590348),\n",
       "   ('изоморфн', 0.0020586231),\n",
       "   ('кажд', 0.0020584036),\n",
       "   ('восстанов', 0.0010660773),\n",
       "   ('называ', 0.0010659716),\n",
       "   ('строг', 0.0010659694),\n",
       "   ('подробн', 0.001065966),\n",
       "   ('обратим', 0.00106594)],\n",
       "  [('индекс', 0.0060384655),\n",
       "   ('компьютерн', 0.0040463996),\n",
       "   ('диагона', 0.0020604406),\n",
       "   ('таблиц', 0.0020591647),\n",
       "   ('каноническ', 0.0020588778),\n",
       "   ('изоморфн', 0.0020588655),\n",
       "   ('всем', 0.0020582725),\n",
       "   ('понятн', 0.0010662412),\n",
       "   ('аддитивн', 0.0010661774),\n",
       "   ('петр', 0.0010661733),\n",
       "   ('»', 0.0010659636),\n",
       "   ('å', 0.00106577),\n",
       "   ('информатик', 0.0010657047),\n",
       "   ('налож', 0.0010656422)],\n",
       "  [('–', 0.006972933),\n",
       "   ('множеств', 0.004015531),\n",
       "   ('код', 0.004015252),\n",
       "   ('таблиц', 0.0030322103),\n",
       "   ('применен', 0.0020463408),\n",
       "   ('каноническ', 0.0020432454),\n",
       "   ('полурешеточн', 0.0020429138),\n",
       "   ('числ', 0.0020428125),\n",
       "   ('есл', 0.0020426426),\n",
       "   ('представлен', 0.0020423997),\n",
       "   ('зада', 0.0020420307),\n",
       "   ('пуст', 0.0020415557),\n",
       "   ('единствен', 0.0010582098),\n",
       "   ('представл', 0.0010575671)]]]"
      ]
     },
     "execution_count": 31,
     "metadata": {},
     "output_type": "execute_result"
    }
   ],
   "source": [
    "list_topics_test"
   ]
  },
  {
   "cell_type": "code",
   "execution_count": null,
   "metadata": {},
   "outputs": [],
   "source": []
  },
  {
   "cell_type": "code",
   "execution_count": 32,
   "metadata": {},
   "outputs": [],
   "source": [
    "import pyLDAvis\n",
    "import pyLDAvis.gensim_models as gensimvis\n",
    "pyLDAvis.enable_notebook()"
   ]
  },
  {
   "cell_type": "code",
   "execution_count": 33,
   "metadata": {},
   "outputs": [
    {
     "name": "stderr",
     "output_type": "stream",
     "text": [
      "C:\\Users\\lalsk\\anaconda3\\lib\\site-packages\\ipykernel\\ipkernel.py:287: DeprecationWarning: `should_run_async` will not call `transform_cell` automatically in the future. Please pass the result to `transformed_cell` argument and any exception that happen during thetransform in `preprocessing_exc_tuple` in IPython 7.17 and above.\n",
      "  and should_run_async(code)\n"
     ]
    },
    {
     "data": {
      "text/html": [
       "\n",
       "<link rel=\"stylesheet\" type=\"text/css\" href=\"https://cdn.jsdelivr.net/gh/bmabey/pyLDAvis@3.3.1/pyLDAvis/js/ldavis.v1.0.0.css\">\n",
       "\n",
       "\n",
       "<div id=\"ldavis_el2358415275076989605290043279\"></div>\n",
       "<script type=\"text/javascript\">\n",
       "\n",
       "var ldavis_el2358415275076989605290043279_data = {\"mdsDat\": {\"x\": [-0.009242119181598582, -0.023627618313997827, -0.0007714104711822136, 0.009948894198128014, 0.002987728633348789, -0.0009446421119553098, -0.0013570102289719548, -0.002562580084365337, -0.00013462593832677094, 0.007691193425700764, 0.005460445159239715, 0.007124003436196374, 0.0006531228613132324, 0.0047746186164710595], \"y\": [0.02140102309512402, -0.011477731219570802, 0.0004094447885854199, 0.0005417976233383735, -0.007019642303861552, 0.0046671760434008605, -0.007885067870338313, 0.002309757656841658, 0.002272809851279116, -0.004743510739862484, -0.003673956575178011, 0.0003013383429864843, 0.004124885905729427, -0.0012283245984742132], \"topics\": [1, 2, 3, 4, 5, 6, 7, 8, 9, 10, 11, 12, 13, 14], \"cluster\": [1, 1, 1, 1, 1, 1, 1, 1, 1, 1, 1, 1, 1, 1], \"Freq\": [9.682591037923848, 8.621262839733907, 8.121485780189545, 7.78005425133545, 7.561478644217493, 7.466807607087543, 6.68870811587146, 6.657553729160415, 6.563927379955264, 6.376675965887489, 6.345350574427284, 6.221360806312202, 6.065320811195525, 5.847422456702578]}, \"tinfo\": {\"Term\": [\"\\u043e\\u043f\\u0435\\u0440\\u0430\\u0446\", \"\\u0443\\u043c\\u043d\\u043e\\u0436\\u0435\\u043d\", \"\\u0438\\u043d\\u0434\\u0435\\u043a\\u0441\", \"\\u2013\", \"\\u043f\\u043e\\u0438\\u0441\\u043a\", \"\\u0444\\u0443\\u043d\\u043a\\u0446\", \"\\u0441\\u0438\\u0441\\u0442\\u0435\\u043c\", \"\\u0441\\u043b\\u043e\\u0436\\u0435\\u043d\", \"\\u044d\\u043b\\u0435\\u043c\\u0435\\u043d\\u0442\", \"\\u043a\\u043e\\u043c\\u043f\\u044c\\u044e\\u0442\\u0435\\u0440\\u043d\", \"\\u0442\\u0430\\u043a\", \"\\u043a\\u043e\\u043c\\u043c\\u0443\\u0442\\u0430\\u0442\\u0438\\u0432\\u043d\", \"\\u043f\\u043e\\u043b\\u0443\\u0433\\u0440\\u0443\\u043f\\u043f\", \"\\u043a\\u043e\\u043d\\u0435\\u0447\\u043d\", \"\\u043c\\u043d\\u043e\\u0436\\u0435\\u0441\\u0442\\u0432\", \"\\u0441\\u043f\\u0438\\u0441\\u043e\\u043a\", \"\\u0430\\u043b\\u0433\\u0435\\u0431\\u0440\\u0430\\u0438\\u0447\\u0435\\u0441\\u043a\", \"\\u0442\\u0430\\u0431\\u043b\\u0438\\u0446\", \"\\u0432\\u043e\\u0437\\u043c\\u043e\\u0436\\u043d\", \"\\u0447\\u0438\\u0441\\u0435\\u043b\", \"\\u0430\\u043d\\u0430\\u043b\\u043e\\u0433\\u0438\\u0447\\u043d\", \"\\u043f\\u043e\\u043b\\u0443\\u0440\\u0435\\u0448\\u0435\\u0442\\u043e\\u0447\\u043d\", \"\\u043a\\u043e\\u0434\", \"\\u043c\\u0443\\u043b\\u044c\\u0442\\u0438\\u043f\\u043b\\u0438\\u043a\\u0430\\u0442\\u0438\\u0432\\u043d\", \"\\u043e\\u0431\\u0440\\u0430\\u0437\", \"\\u0437\\u0430\\u0434\\u0430\", \"\\u0440\\u0438\\u0441\", \"\\u043a\\u0430\\u0436\\u0434\", \"\\u043f\\u043e\\u043b\\u0443\\u0447\\u0430\", \"\\u0430\\u043b\\u0433\\u0435\\u0431\\u0440\", \"\\u0430\\u043b\\u0433\\u0435\\u0431\\u0440\\u0430\\u0438\\u0447\\u0435\\u0441\\u043a\", \"\\u0442\\u0430\\u043a\", \"\\u043e\\u043f\\u0435\\u0440\\u0430\\u0446\", \"\\u0442\\u0435\\u043a\\u0443\\u0449\", \"\\u0443\\u043b\", \"\\u0441\\u043e\\u0437\\u0434\\u0430\", \"\\u0440\\u0435\\u0448\", \"\\u0440\\u0430\\u0441\\u043f\\u0440\\u043e\\u0441\\u0442\\u0440\\u0430\\u043d\\u044f\", \"\\u043e\\u0437\\u043d\\u0430\\u043a\\u043e\\u043c\", \"\\u0442\\u0440\\u0435\\u0445\", \"\\u00a9\", \"\\u0432\\u0435\\u043a\\u0442\\u043e\\u0440\\u043d\", \"\\u0432\\u0435\\u0440\\u043e\\u044f\\u0442\\u043d\", \"\\u044f\\u0447\\u0435\\u0435\\u043a\", \"\\u0442\\u0430\\u0431\\u043b\\u0438\\u0447\\u043d\", \"\\u00ee\", \"\\u043f\\u0440\\u0438\\u0432\\u0435\\u0434\", \"\\u043f\\u0435\\u0440\\u0432\", \"\\u0434\\u0432\", \"\\u043f\\u043e\\u043b\\u0443\\u0440\\u0435\\u0448\\u0435\\u0442\\u043a\", \"\\u0434\\u0438\\u0430\\u0433\\u0440\\u0430\\u043c\\u043c\", \"\\u0438\\u0441\\u043f\\u043e\\u043b\\u044c\\u0437\\u043e\\u0432\\u0430\", \"\\u043a\\u044d\\u043b\", \"\\u0441\\u043e\\u0431\", \"\\u043f\\u0430\\u0440\", \"\\u043d\\u0435\\u043e\\u0431\\u0445\\u043e\\u0434\\u0438\\u043c\", \"\\u043f\\u0435\\u0440\\u0435\\u0432\\u043e\\u0434\", \"\\u0437\\u0430\\u0434\\u0430\\u043d\", \"\\u0441\\u043f\\u0438\\u0441\\u043e\\u043a\", \"\\u043f\\u043e\\u043d\\u0438\\u043c\\u0430\", \"\\u043a\\u043e\\u043c\\u043c\\u0443\\u0442\\u0430\\u0442\\u0438\\u0432\\u043d\", \"\\u043f\\u043e\\u043b\\u0443\\u0440\\u0435\\u0448\\u0435\\u0442\\u043e\\u0447\\u043d\", \"\\u043c\\u0430\\u0442\\u0435\\u043c\\u0430\\u0442\\u0438\\u043a\", \"\\u0442\\u0440\\u0435\\u0445\\u044d\\u043b\\u0435\\u043c\\u0435\\u043d\\u0442\\u043d\", \"\\u043f\\u0440\\u0435\\u0434\\u043b\\u043e\\u0436\", \"\\u0437\\u0430\\u0434\\u0430\", \"\\u043a\\u0430\\u0436\\u0434\", \"\\u0443\\u043c\\u043d\\u043e\\u0436\\u0435\\u043d\", \"\\u043a\\u043e\\u043b\\u0438\\u0447\\u0435\\u0441\\u0442\\u0432\", \"\\u0441\\u0442\\u0430\\u0442\", \"\\u0447\\u0438\\u0441\\u0435\\u043b\", \"\\u0430\\u043d\\u0430\\u043b\\u043e\\u0433\\u0438\\u0447\\u043d\", \"\\u0441\\u0430\\u043c\", \"\\u0441\\u0432\\u043e\", \"\\u0442\\u0435\\u043e\\u0440\\u0435\\u0442\\u0438\\u0447\\u0435\\u0441\\u043a\", \"\\u0438\\u043d\\u0430\\u0447\", \"\\u00e4\", \"\\u043a\\u043e\\u043b\\u044c\\u0446\", \"\\u043e\\u0442\\u044b\\u0441\\u043a\\u0430\\u043d\", \"\\u043c\\u043e\\u0441\\u043a\\u043e\\u0432\\u0441\\u043a\", \"\\u043f\\u043e\\u043b\\u044c\\u0437\\u043e\\u0432\\u0430\\u0442\\u0435\\u043b\", \"\\u0438\\u043d\\u0442\\u0435\\u0440\\u0435\\u0441\", \"\\u043d\\u0435\\u043f\\u043e\\u0441\\u0440\\u0435\\u0434\\u0441\\u0442\\u0432\\u0435\\u043d\", \"\\u0434\\u0430\\u043b\", \"\\u043f\\u0440\\u0435\\u0434\\u0441\\u0442\\u0430\\u0432\\u0438\\u0442\\u0435\\u043b\", \"\\u043f\\u0435\\u0440\\u0435\\u0432\\u043e\\u0434\\u044f\", \"\\u0442\\u043e\\u0436\\u0434\\u0435\\u0441\\u0442\\u0432\", \"\\u043f\\u0435\\u0440\\u0435\\u0441\\u0442\\u0430\\u043d\\u043e\\u0432\\u043e\\u043a\", \"\\u043a\\u043e\\u043d\\u0435\\u0447\\u043d\", \"\\u0443\\u0434\\u043e\\u0432\\u043b\\u0435\\u0442\\u0432\\u043e\\u0440\\u044f\", \"\\u043f\\u0435\\u0440\\u0435\\u0441\\u0442\\u0430\\u043d\\u043e\\u0432\\u043a\", \"\\u0437\\u0430\\u0434\\u0430\\u0447\", \"\\u0434\\u0432\\u0443\\u0445\\u044d\\u043b\\u0435\\u043c\\u0435\\u043d\\u0442\\u043d\", \"\\u044d\\u043b\\u0435\\u043c\\u0435\\u043d\\u0442\\u043d\", \"\\u0438\\u0441\\u043f\\u043e\\u043b\\u044c\\u0437\\u043e\\u0432\\u0430\\u043d\", \"\\u043f\\u0440\\u0438\\u0432\\u0435\\u0434\\u0435\\u043d\", \"\\u043d\\u0430\\u0437\\u043e\\u0432\", \"\\u0441\\u043e\\u043a\\u0440\\u0430\\u0449\\u0435\\u043d\", \"\\u0442\\u0430\\u0431\\u043b\\u0438\\u0446\", \"\\u043f\\u043e\\u0438\\u0441\\u043a\", \"\\u043e\\u043f\\u0435\\u0440\\u0430\\u0446\", \"\\u043f\\u0440\\u0435\\u0434\\u043b\\u043e\\u0436\", \"\\u0438\\u0441\\u0441\\u043b\\u0435\\u0434\\u043e\\u0432\\u0430\\u043d\", \"\\u0430\\u043b\\u0433\\u0435\\u0431\\u0440\\u0430\\u0438\\u0447\\u0435\\u0441\\u043a\", \"\\u043a\\u0430\\u043d\\u043e\\u043d\\u0438\\u0447\\u0435\\u0441\\u043a\", \"\\u0440\\u0430\\u0431\\u043e\\u0442\", \"\\u0448\\u0438\\u0440\\u043e\\u043a\", \"\\u043f\\u043e\\u0438\\u0441\\u043a\", \"\\u0432\\u043e\\u0441\\u043f\\u043e\\u043b\\u044c\\u0437\\u043e\\u0432\\u0430\", \"\\u0437\\u043d\\u0430\\u043d\", \"\\u0433\\u0435\\u043e\\u043c\\u0435\\u0442\\u0440\", \"\\u0441\\u043b\\u043e\\u0432\", \"\\u0435\\u043d\", \"\\u043f\\u043e\\u0437\\u0432\\u043e\\u043b\\u044f\", \"\\u0438\\u0442\\u0430\\u043a\", \"\\u0431\\u0438\\u043d\\u0430\\u0440\\u043d\", \"\\u0432\\u044b\\u0431\\u0438\\u0440\\u0430\", \"\\u043a\\u0430\\u043a\\u043e\\u0439\\u043b\\u0438\\u0431\", \"\\u0433\\u0440\\u0430\\u043d\", \"\\u0440\\u0444\", \"\\u0430\\u043a\\u0442\\u0438\\u0432\\u043d\", \"\\u0440\\u0430\\u0441\\u043f\\u043e\\u043b\\u043e\\u0436\\u0435\\u043d\", \"\\u0440\\u0438\\u0441\", \"\\u043f\\u0440\\u0438\\u043c\\u0435\\u0440\", \"\\u043f\\u0440\\u043e\\u0438\\u0437\\u0432\\u0435\\u0434\\u0435\\u043d\", \"\\u043f\\u0440\\u0438\\u043c\\u0435\\u043d\\u044f\", \"\\u0447\\u0430\\u0441\\u0442\\u0438\\u0447\\u043d\", \"\\u0440\\u0435\\u0430\\u043b\\u0438\\u0437\\u043e\\u0432\\u0430\", \"\\u0438\\u0434\\u0435\\u0430\\u043b\", \"\\u0437\\u043d\\u0430\\u0447\\u0435\\u043d\", \"\\u0440\\u0435\\u0437\\u0443\\u043b\\u044c\\u0442\\u0430\\u0442\", \"\\u0443\\u0441\\u043b\\u043e\\u0432\", \"\\u043d\\u0435\\u043e\\u0431\\u0445\\u043e\\u0434\\u0438\\u043c\", \"\\u0441\\u043e\\u0431\", \"\\u043f\\u0430\\u0440\", \"\\u043f\\u043e\\u043b\\u0443\\u0440\\u0435\\u0448\\u0435\\u0442\\u043e\\u0447\\u043d\", \"\\u043f\\u043e\\u043b\\u0443\\u0447\\u0430\", \"\\u043a\\u043e\\u0442\\u043e\\u0440\", \"\\u043e\\u043f\\u0435\\u0440\\u0430\\u0446\", \"\\u0440\\u0435\\u0448\\u0435\\u043d\", \"\\u0441\\u0438\\u043b\", \"\\u043f\\u0440\\u0438\", \"\\u0441\\u043b\\u043e\\u0436\\u0435\\u043d\", \"\\u0442\\u0435\\u043e\\u0440\", \"\\u043f\\u0440\\u0435\\u043e\\u0431\\u0440\\u0430\\u0437\\u043e\\u0432\\u0430\\u043d\", \"\\u043d\\u0430\\u0448\", \"\\u043f\\u043e\\u0441\\u043b\\u0435\\u0434\\u043e\\u0432\\u0430\\u0442\\u0435\\u043b\\u044c\\u043d\", \"\\u043f\\u0440\\u0438\\u0432\\u043e\\u0434\", \"\\u043f\\u0440\\u043e\\u0446\\u0435\\u0441\\u0441\", \"\\u0443\\u0434\\u043a\", \"\\u043e\\u0442\\u043e\\u0431\\u0440\\u0430\\u0436\\u0430\", \"\\u0444\\u0438\\u043a\\u0441\\u0438\\u0440\\u0443\", \"\\u0432\\u044b\\u0440\\u0430\\u0436\\u0435\\u043d\", \"\\u0441\\u0442\\u0430\\u0442\\u0438\\u0441\\u0442\\u0438\\u043a\", \"\\u043d\\u0430\\u043c\", \"\\u0440\\u0430\\u043c\\u043a\", \"\\u043d\\u0435\\u043c\", \"\\u0442\\u0430\\u043a\\u0436\", \"\\u043f\\u043e\\u043b\\u0443\\u0433\\u0440\\u0443\\u043f\\u043f\", \"\\u0430\\u043b\\u0433\\u0435\\u0431\\u0440\", \"\\u0441\\u0440\\u0435\\u0434\", \"\\u043e\\u0442\\u043b\\u0438\\u0447\\u043d\", \"\\u0442\\u0440\\u0435\\u0445\\u044d\\u043b\\u0435\\u043c\\u0435\\u043d\\u0442\\u043d\", \"\\u044f\\u0437\\u044b\\u043a\", \"\\u043f\\u0440\\u043e\\u0438\\u0437\\u0432\\u043e\\u043b\\u044c\\u043d\", \"\\u0437\\u0430\\u043c\\u0435\\u0442\", \"\\u0440\\u0438\\u0441\", \"\\u043f\\u0440\\u0430\\u043a\\u0442\\u0438\\u0447\\u0435\\u0441\\u043a\", \"\\u0430\\u0441\\u0441\\u043e\\u0446\\u0438\\u0430\\u0442\\u0438\\u0432\\u043d\", \"\\u043f\\u043e\\u043c\\u043e\\u0449\", \"\\u0430\\u043b\\u0433\\u043e\\u0440\\u0438\\u0442\\u043c\", \"\\u043e\\u043f\\u0435\\u0440\\u0430\\u0446\", \"\\u043f\\u043e\\u043d\\u0438\\u043c\\u0430\", \"\\u0438\\u0441\\u0441\\u043b\\u0435\\u0434\\u043e\\u0432\\u0430\\u0442\\u0435\\u043b\\u044c\\u0441\\u043a\", \"\\u0441\\u043e\\u043e\\u0442\\u0432\\u0435\\u0442\\u0441\\u0442\\u0432\", \"\\u0431\\u0443\\u0434\\u0443\\u0442\", \"\\u0438\\u043d\\u0444\\u043e\\u0440\\u043c\\u0430\\u0446\\u0438\\u043e\\u043d\", \"\\u043f\\u0440\\u0435\\u0434\\u043b\\u0430\\u0433\\u0430\", \"\\u0435\\u043b\", \"\\u043f\\u0440\\u0430\\u0432\", \"\\u043d\\u0435\\u043a\\u043e\\u0442\\u043e\\u0440\", \"\\u043f\\u0440\\u043e\\u0441\\u0442\\u0440\\u0430\\u043d\\u0441\\u0442\\u0432\", \"\\u0441\\u0432\\u043e\\u0431\\u043e\\u0434\\u043d\", \"\\u043a\\u0430\\u043d\\u0434\\u0438\\u0434\\u0430\\u0442\", \"\\u043d\\u0430\\u0438\\u043c\\u0435\\u043d\\u044c\\u0448\", \"\\u0438\\u0437\\u043b\\u043e\\u0436\", \"\\u0438\\u0437\", \"\\u0437\\u043d\\u0430\", \"\\u0432\\u0438\\u0434\\u043d\", \"\\u043f\\u043e\\u043b\\u043d\", \"\\u2013\", \"\\u043a\\u0430\\u0436\\u0434\", \"\\u0438\\u0441\\u0441\\u043b\\u0435\\u0434\\u043e\\u0432\\u0430\\u0442\\u0435\\u043b\\u044c\\u0441\\u043a\", \"\\u044f\\u0432\\u043b\\u044f\", \"\\u043c\\u0430\\u0442\\u0435\\u043c\\u0430\\u0442\\u0438\\u0447\\u0435\\u0441\\u043a\", \"\\u0438\\u0441\\u043f\\u043e\\u043b\\u044c\\u0437\\u043e\\u0432\\u0430\", \"\\u0437\\u0430\\u0434\\u0430\", \"\\u043e\\u0431\\u044a\\u0435\\u043a\\u0442\", \"\\u0444\\u0443\\u043d\\u043a\\u0446\", \"\\u043d\\u0430\\u0437\\u044b\\u0432\\u0430\", \"\\u0440\\u0435\\u0448\\u0435\\u043d\", \"\\u043f\\u043e\\u043b\\u0443\\u0433\\u0440\\u0443\\u043f\\u043f\", \"\\u043f\\u0435\\u0440\\u0435\\u0441\\u0442\\u0430\\u043d\\u043e\\u0432\\u043e\\u043a\", \"\\u043b\\u044e\\u0431\", \"\\u0438\\u0434\\u0435\\u043c\\u043f\\u043e\\u0442\\u0435\\u043d\\u0442\\u043d\", \"\\u0447\\u0438\\u0441\\u043b\", \"\\u043f\\u043e\\u043b\\u0443\\u0440\\u0435\\u0448\\u0435\\u0442\\u043e\\u0447\\u043d\", \"\\u0434\\u043e\\u043f\\u043e\\u043b\\u043d\\u0438\\u0442\\u0435\\u043b\\u044c\\u043d\", \"\\u043d\\u0430\\u0439\\u0434\\u0435\\u0442\", \"\\u043e\\u0433\\u0440\\u0430\\u043d\\u0438\\u0447\\u0435\\u043d\", \"\\u0437\\u043d\\u0430\\u0442\", \"\\u0441\\u043f\\u0438\\u0441\\u043a\", \"\\u043f\\u043e\\u0440\\u044f\\u0434\\u043a\", \"\\u0430\\u043b\\u0435\\u043a\\u0441\\u0430\\u043d\\u0434\\u0440\\u043e\\u0432\\u0438\\u0447\", \"\\u043f\\u0440\\u0438\\u0445\\u043e\\u0434\", \"\\u043f\\u0440\\u043e\\u0433\\u0440\\u0430\\u043c\\u043c\\u0438\\u0440\\u043e\\u0432\\u0430\\u043d\", \"\\u0438\\u043d\\u0442\\u0443\\u0438\\u0442\\u0438\\u0432\\u043d\", \"\\u0441\\u0442\\u0430\\u043d\\u0434\\u0430\\u0440\\u0442\\u043d\", \"\\u043f\\u043e\\u0441\\u0442\\u043e\\u044f\", \"\\u043e\\u0431\\u043b\\u0430\\u0441\\u0442\", \"\\u0442\\u043e\\u0447\\u043d\", \"\\u0438\\u043d\\u0434\\u0435\\u043a\\u0441\", \"\\u0438\\u0434\\u0435\\u043c\\u043f\\u043e\\u0442\\u0435\\u043d\\u0442\\u043d\", \"\\u0438\\u0441\\u0441\\u043b\\u0435\\u0434\\u043e\\u0432\\u0430\\u043d\", \"\\u043f\\u0440\\u0435\\u0434\\u0441\\u0442\\u0430\\u0432\\u043b\\u0435\\u043d\", \"\\u0441\\u043b\\u0435\\u0434\", \"\\u043f\\u043e\\u043b\\u0443\\u0447\\u0435\\u043d\", \"\\u043e\\u043f\\u0440\\u0435\\u0434\\u0435\\u043b\\u0435\\u043d\", \"\\u043c\\u0430\\u0440\\u043a\", \"\\u043a\\u044d\\u043b\", \"\\u0432\\u0441\\u0435\\u043c\", \"\\u0441\\u043e\\u043e\\u0442\\u0432\\u0435\\u0442\\u0441\\u0442\\u0432\", \"\\u0442\\u043e\\u0436\\u0434\\u0435\\u0441\\u0442\\u0432\", \"\\u043a\\u043e\\u043d\\u0435\\u0447\\u043d\", \"\\u043f\\u0435\\u0440\\u0432\", \"\\u0442\\u0440\\u0435\\u0445\\u044d\\u043b\\u0435\\u043c\\u0435\\u043d\\u0442\\u043d\", \"\\u0437\\u0430\\u0434\\u0430\\u0447\", \"\\u043e\\u043f\\u0435\\u0440\\u0430\\u0446\", \"\\u043c\\u043d\\u043e\\u0436\\u0435\\u0441\\u0442\\u0432\", \"\\u0438\\u0437\\u043e\\u043c\\u043e\\u0440\\u0444\\u043d\", \"\\u043f\\u0435\\u0440\\u0435\\u0432\\u043e\\u0434\", \"\\u044d\\u043b\\u0435\\u043c\\u0435\\u043d\\u0442\", \"\\u043f\\u0440\\u0438\\u043c\\u0435\\u043d\\u0435\\u043d\", \"\\u0435\\u0441\\u043b\", \"\\u0435\\u0434\\u0438\\u043d\\u0441\\u0442\\u0432\\u0435\\u043d\", \"\\u043f\\u0440\\u0435\\u0434\\u0441\\u0442\\u0430\\u0432\\u043b\", \"\\u043d\\u0438\\u043c\", \"\\u0438\\u0437\\u043e\\u043c\\u043e\\u0440\\u0444\\u0438\\u0437\\u043c\", \"\\u043f\\u0440\\u0430\\u0432\\u0438\\u043b\", \"\\u043e\\u0431\\u0440\\u0430\\u0437\\u043e\\u0432\\u0430\\u043d\", \"\\u043f\\u0440\\u043e\\u0433\\u0440\\u0430\\u043c\\u043c\", \"\\u043f\\u0443\\u0442\", \"\\u0432\\u044b\\u0434\\u0435\\u043b\", \"\\u0430\\u043d\\u0430\\u043b\\u0438\\u0442\\u0438\\u0447\\u0435\\u0441\\u043a\", \"\\u043c\\u0430\\u0442\\u0440\\u0438\\u0446\", \"\\u0440\\u043e\\u0441\\u0441\", \"\\u043a\\u043e\\u0434\", \"\\u043c\\u043d\\u043e\\u0436\\u0435\\u0441\\u0442\\u0432\", \"\\u0442\\u0430\\u0431\\u043b\\u0438\\u0446\", \"\\u043a\\u043e\\u043d\\u0433\\u0440\\u0443\\u044d\\u043d\\u0446\", \"\\u043c\\u0430\\u0440\\u043a\", \"\\u043f\\u0443\\u0441\\u0442\", \"\\u0438\\u0434\\u0435\\u0430\\u043b\", \"\\u2013\", \"\\u0447\\u0438\\u0441\\u043b\", \"\\u043a\\u0430\\u043d\\u043e\\u043d\\u0438\\u0447\\u0435\\u0441\\u043a\", \"\\u043f\\u0440\\u0435\\u0434\\u0441\\u0442\\u0430\\u0432\\u043b\\u0435\\u043d\", \"\\u043c\\u0430\\u0442\\u0435\\u043c\\u0430\\u0442\\u0438\\u043a\", \"\\u043f\\u043e\\u043b\\u0443\\u0440\\u0435\\u0448\\u0435\\u0442\\u043e\\u0447\\u043d\", \"\\u0437\\u0430\\u0434\\u0430\", \"\\u0440\\u0435\\u0437\\u0443\\u043b\\u044c\\u0442\\u0430\\u0442\", \"\\u0447\\u0438\\u0441\\u0435\\u043b\", \"\\u0443\\u043c\\u043d\\u043e\\u0436\\u0435\\u043d\", \"\\u0444\\u0443\\u043d\\u043a\\u0446\", \"\\u043f\\u0435\\u0440\\u0435\\u0441\\u0442\\u0430\\u043d\\u043e\\u0432\\u043a\", \"\\u0430\\u043b\\u0433\\u0435\\u0431\\u0440\", \"\\u043f\\u0435\\u0440\\u0435\\u0432\\u043e\\u0434\", \"\\u043e\\u0431\\u0440\\u0430\\u0437\", \"\\u0441\\u043f\\u0435\\u0446\\u0438\\u0430\\u043b\\u0438\\u0441\\u0442\", \"\\u043f\\u0440\\u0435\\u0434\\u0441\\u0442\\u0430\\u0432\\u043b\\u044f\", \"\\u043a\\u0443\\u0440\\u0441\", \"\\u043f\\u043e\\u043b\", \"\\u0434\\u043e\\u0432\\u043e\\u043b\\u044c\\u043d\", \"\\u043e\\u0434\\u043d\", \"\\u0432\\u0437\\u044f\\u0442\", \"\\u0441\\u043e\\u0445\\u0440\\u0430\\u043d\\u0435\\u043d\", \"\\u043b\\u0435\\u0436\\u0430\", \"\\u043f\\u0440\\u044f\\u043c\", \"\\u043f\\u043e\\u043d\\u0430\\u0434\\u043e\\u0431\", \"\\u0440\\u0438\\u0441\\u0443\\u043d\\u043a\", \"\\u0430\\u043d\\u043d\\u043e\\u0442\\u0430\\u0446\", \"\\u043e\\u0431\\u044a\\u0435\\u043a\\u0442\", \"\\u0444\\u0443\\u043d\\u043a\\u0446\", \"\\u0432\\u0445\\u043e\\u0434\", \"\\u0443\\u043a\\u0430\\u0437\\u0430\", \"\\u043f\\u0440\\u0438\\u043a\\u043b\\u0430\\u0434\\u043d\", \"\\u0441\\u043f\\u0438\\u0441\\u043e\\u043a\", \"\\u0437\\u043d\\u0430\\u0447\\u0435\\u043d\", \"\\u0444\\u0443\\u043d\\u0434\\u0430\\u043c\\u0435\\u043d\\u0442\\u0430\\u043b\\u044c\\u043d\", \"\\u043d\\u0430\\u0437\\u043e\\u0432\", \"\\u043f\\u0440\\u0438\\u0432\\u0435\\u0434\\u0435\\u043d\", \"\\u043f\\u043e\\u043d\\u0438\\u043c\\u0430\", \"\\u043c\\u043d\\u043e\\u0436\\u0435\\u0441\\u0442\\u0432\", \"\\u0437\\u0430\\u0434\\u0430\", \"\\u043f\\u0443\\u0441\\u0442\", \"\\u043a\\u0430\\u043d\\u043e\\u043d\\u0438\\u0447\\u0435\\u0441\\u043a\", \"\\u0430\\u043b\\u0433\\u043e\\u0440\\u0438\\u0442\\u043c\", \"\\u043e\\u043f\\u0435\\u0440\\u0430\\u0446\", \"\\u044d\\u043b\\u0435\\u043c\\u0435\\u043d\\u0442\", \"\\u0441\\u043b\\u0435\\u0434\", \"\\u043f\\u043e\\u0438\\u0441\\u043a\", \"\\u0434\\u0438\\u0430\\u0433\\u043e\\u043d\\u0430\", \"\\u043f\\u043e\\u043d\\u044f\\u0442\\u043d\", \"\\u0430\\u0434\\u0434\\u0438\\u0442\\u0438\\u0432\\u043d\", \"\\u00bb\", \"\\u00e5\", \"\\u0438\\u043d\\u0444\\u043e\\u0440\\u043c\\u0430\\u0442\\u0438\\u043a\", \"\\u043d\\u0430\\u043b\\u043e\\u0436\", \"\\u043d\\u0443\\u0436\\u043d\", \"\\u043d\\u0430\\u0443\\u043a\", \"\\u0441\\u043e\\u043a\\u0440\\u0430\\u0442\", \"\\u0432\\u043a\\u043b\\u044e\\u0447\\u0435\\u043d\", \"\\u0432\\u0440\\u0435\\u043c\\u0435\\u043d\", \"\\u0434\\u0435\\u0439\\u0441\\u0442\\u0432\", \"\\u0440\\u0430\\u0432\", \"\\u0431\\u0443\\u0434\\u0443\\u0449\", \"\\u043d\\u0430\\u0445\\u043e\\u0436\\u0434\\u0435\\u043d\", \"\\u043c\\u0435\\u0445\\u0430\\u043d\\u0438\\u0437\\u043c\", \"\\u0432\\u0441\\u0435\\u043c\", \"\\u043a\\u043e\\u043c\\u043f\\u044c\\u044e\\u0442\\u0435\\u0440\\u043d\", \"\\u043f\\u0435\\u0442\\u0440\", \"\\u0432\\u043e\\u0441\\u0441\\u0442\\u0430\\u043d\\u043e\\u0432\", \"\\u0438\\u0441\\u043f\\u043e\\u043b\\u044c\\u0437\\u043e\\u0432\\u0430\\u043d\", \"\\u044d\\u043b\\u0435\\u043c\\u0435\\u043d\\u0442\\u043d\", \"\\u0434\\u0438\\u0430\\u0433\\u0440\\u0430\\u043c\\u043c\", \"\\u0438\\u043d\\u0434\\u0435\\u043a\\u0441\", \"\\u043a\\u0430\\u043d\\u043e\\u043d\\u0438\\u0447\\u0435\\u0441\\u043a\", \"\\u0441\\u043e\\u043e\\u0442\\u0432\\u0435\\u0442\\u0441\\u0442\\u0432\", \"\\u0442\\u0430\\u0431\\u043b\\u0438\\u0446\", \"\\u043f\\u0440\\u0435\\u0434\\u043b\\u043e\\u0436\", \"\\u043f\\u0440\\u0438\\u0432\\u0435\\u0434\", \"\\u0438\\u0437\\u043e\\u043c\\u043e\\u0440\\u0444\\u043d\", \"\\u043b\\u044e\\u0431\", \"\\u00ee\", \"\\u0438\\u0434\\u0435\\u043c\\u043f\\u043e\\u0442\\u0435\\u043d\\u0442\\u043d\", \"\\u043a\\u043e\\u043c\\u043c\\u0443\\u0442\\u0430\\u0442\\u0438\\u0432\\u043d\", \"\\u043a\\u044d\\u043b\", \"\\u0442\\u0430\\u043a\", \"\\u043f\\u043e\\u0434\", \"\\u044d\\u043b\\u0435\\u043c\\u0435\\u043d\\u0442\", \"\\u0441\\u0442\\u0440\\u043e\\u0433\", \"\\u043f\\u043e\\u0434\\u0440\\u043e\\u0431\\u043d\", \"\\u043e\\u0431\\u0440\\u0430\\u0442\\u0438\\u043c\", \"\\u00ab\", \"\\u0440\\u0430\\u0437\\u043b\\u0438\\u0447\\u043d\", \"\\u043d\\u0438\\u0436\", \"\\u0444\\u0438\\u043a\\u0441\\u0438\\u0440\\u043e\\u0432\\u0430\", \"\\u043f\\u0435\\u0440\\u0435\\u0431\\u043e\\u0440\", \"\\u0434\\u0440\\u0443\\u0433\", \"\\u043c\\u0430\\u0442\\u0435\\u043c\\u0430\\u0442\\u0438\\u043a\", \"\\u0438\\u043c\\u0435\\u0435\\u0442\", \"\\u0446\\u0438\\u043a\\u043b\\u0438\\u0447\\u0435\\u0441\\u043a\", \"\\u0432\\u0442\\u043e\\u0440\", \"\\u0432\\u043e\\u0441\\u0441\\u0442\\u0430\\u043d\\u043e\\u0432\", \"\\u043a\\u043e\\u043d\\u0433\\u0440\\u0443\\u044d\\u043d\\u0446\", \"\\u043f\\u0440\\u0438\\u043a\\u043b\\u0430\\u0434\\u043d\", \"\\u0441\\u0442\\u0440\\u0443\\u043a\\u0442\\u0443\\u0440\", \"\\u044f\\u0432\\u043b\\u044f\", \"\\u0437\\u0430\\u043c\\u0435\\u0442\", \"\\u0434\\u0432\\u0443\\u0445\\u044d\\u043b\\u0435\\u043c\\u0435\\u043d\\u0442\\u043d\", \"\\u043f\\u043e\\u043b\\u0443\\u0440\\u0435\\u0448\\u0435\\u0442\\u043a\", \"\\u0447\\u0438\\u0441\\u043b\", \"\\u0430\\u043b\\u0433\\u0435\\u0431\\u0440\", \"\\u0441\\u0432\\u043e\\u0439\\u0441\\u0442\\u0432\", \"\\u043a\\u0430\\u0436\\u0434\", \"\\u043d\\u0430\\u0437\\u044b\\u0432\\u0430\", \"\\u0442\\u0430\\u043a\\u0436\", \"\\u0437\\u0430\\u0434\\u0430\\u043d\", \"\\u0438\\u0437\\u043e\\u043c\\u043e\\u0440\\u0444\\u043d\", \"\\u0441\\u043b\\u043e\\u0436\\u0435\\u043d\", \"\\u043a\\u043e\\u0434\", \"\\u0440\\u0430\\u0431\\u043e\\u0442\", \"\\u043f\\u0440\\u0435\\u0434\\u0441\\u0442\\u0430\\u0432\\u043b\\u0435\\u043d\", \"\\u043c\\u0443\\u043b\\u044c\\u0442\\u0438\\u043f\\u043b\\u0438\\u043a\\u0430\\u0442\\u0438\\u0432\\u043d\", \"\\u0432\\u043e\\u0437\\u043c\\u043e\\u0436\\u043d\", \"\\u0430\", \"\\u043e\\u0441\\u043d\\u043e\\u0432\\u043d\", \"\\u0431\\u043e\\u043b\\u044c\\u0448\", \"\\u0441\\u043b\\u0443\\u0447\\u0430\", \"\\u0430\\u043d\\u0434\\u0440\", \"\\u0440\\u0430\\u0437\", \"\\u0441\\u0438\\u0441\\u0442\", \"\\u0441\\u0443\\u043c\\u043c\", \"\\u0431\\u043b\\u0430\\u0433\\u043e\\u0434\\u0430\\u0440\", \"\\u043a\\u043b\\u0430\\u0441\\u0441\", \"\\u0432\\u044b\\u0441\\u0448\", \"\\u043e\\u0441\\u0442\\u0430\\u043b\\u044c\\u043d\", \"\\u0434\\u0440\", \"\\u0441\\u0432\\u043e\\u0439\\u0441\\u0442\\u0432\", \"\\u043f\\u043e\\u043c\\u043e\\u0449\", \"\\u0433\\u043b\\u0430\\u0432\\u043d\", \"\\u0433\\u043e\\u0441\\u0443\\u0434\\u0430\\u0440\\u0441\\u0442\\u0432\\u0435\\u043d\", \"\\u0432\\u0442\\u043e\\u0440\", \"\\u043e\\u043f\\u0440\\u0435\\u0434\\u0435\\u043b\\u0435\\u043d\", \"\\u0440\\u0435\\u0430\\u043b\\u0438\\u0437\\u043e\\u0432\\u0430\", \"\\u0440\\u0430\\u0431\\u043e\\u0442\", \"\\u0430\\u0441\\u0441\\u043e\\u0446\\u0438\\u0430\\u0442\\u0438\\u0432\\u043d\", \"\\u0437\\u0430\\u0434\\u0430\\u043d\", \"\\u0441\\u0440\\u0435\\u0434\", \"\\u043e\\u0442\\u043b\\u0438\\u0447\\u043d\", \"\\u0443\\u0434\\u043e\\u0432\\u043b\\u0435\\u0442\\u0432\\u043e\\u0440\\u044f\", \"\\u043f\\u043e\\u043b\\u0443\\u0447\\u0430\", \"\\u0438\\u0437\\u043e\\u043c\\u043e\\u0440\\u0444\\u043d\", \"\\u2013\", \"\\u0438\\u0437\\u0443\\u0447\\u0435\\u043d\", \"\\u043d\\u0430\\u043f\\u0440\\u0438\\u043c\\u0435\\u0440\", \"\\u0431\\u0443\\u0434\", \"\\u0437\\u0430\\u0434\\u0430\\u0434\", \"\\u0438\\u0442\\u043e\\u0433\", \"\\u043b\\u0435\\u043a\\u0441\\u0438\\u043a\\u043e\\u0433\\u0440\\u0430\\u0444\\u0438\\u0447\\u0435\\u0441\\u043a\", \"\\u0447\\u0435\\u0440\\u0442\\u0435\\u0436\", \"\\u0440\\u0432\", \"\\u043f\\u0435\\u0440\\u0435\\u0439\\u0434\", \"\\u043f\\u0440\\u0438\\u0434\\u0435\\u0442\", \"\\u0438\\u043c\\u0435\\u044e\\u0449\", \"\\u043a\\u043b\\u044e\\u0447\\u0435\\u0432\", \"\\u0434\\u0438\\u0441\\u0442\\u0440\\u0438\\u0431\\u0443\\u0442\\u0438\\u0432\\u043d\", \"\\u0432\\u044b\\u0431\\u0440\\u0430\", \"\\u0432\\u044b\\u0448\", \"\\u043e\\u0431\\u0440\\u0430\\u0442\", \"\\u043f\\u0440\\u0438\\u043c\\u0435\\u043d\", \"\\u0441\\u0442\\u0440\\u043e\\u043a\", \"\\u0441\\u043f\\u0435\\u0446\\u0438\\u0430\\u043b\\u044c\\u043d\", \"\\u0437\\u0430\\u043f\", \"\\u043d\\u0435\\u043f\\u0443\\u0441\\u0442\", \"\\u043b\\u044e\\u0431\", \"\\u0430\\u043b\\u0433\\u043e\\u0440\\u0438\\u0442\\u043c\", \"\\u0433\\u043e\\u0441\\u0443\\u0434\\u0430\\u0440\\u0441\\u0442\\u0432\\u0435\\u043d\", \"\\u043f\\u0440\\u043e\\u0438\\u0437\\u0432\\u043e\\u043b\\u044c\\u043d\", \"\\u044f\\u0437\\u044b\\u043a\", \"\\u0447\\u0430\\u0441\\u0442\\u0438\\u0447\\u043d\", \"\\u0434\\u0432\", \"\\u0440\\u0435\\u0448\\u0435\\u043d\", \"\\u0441\\u0440\\u0435\\u0434\", \"\\u043c\\u043d\\u043e\\u0436\\u0435\\u0441\\u0442\\u0432\", \"\\u0441\\u0438\\u0441\\u0442\\u0435\\u043c\", \"\\u043f\\u0443\\u0441\\u0442\", \"\\u043f\\u0440\\u0435\\u0434\\u0441\\u0442\\u0430\\u0432\\u043b\\u0435\\u043d\", \"\\u0441\\u0438\\u0441\\u0442\\u0435\\u043c\", \"\\u0432\\u044b\\u043f\\u043e\\u043b\\u043d\\u044f\", \"\\u043c\\u043d\\u043e\\u0433\\u043e\\u0447\\u043b\", \"\\u043d\\u0430\\u0439\\u0442\", \"\\u0443\\u0432\\u0435\\u043b\\u0438\\u0447\\u0438\\u0432\\u0430\", \"\\u0444\\u0435\\u0434\\u0435\\u0440\\u0430\\u043b\\u044c\\u043d\", \"\\u0432\\u0437\\u0430\\u0438\\u043c\\u043d\\u043e\\u043e\\u0434\\u043d\\u043e\\u0437\\u043d\\u0430\\u0447\\u043d\", \"\\u043e\\u0442\\u043d\\u043e\\u0441\\u0438\\u0442\\u0435\\u043b\\u044c\\u043d\", \"\\u0441\\u043e\\u043f\\u043e\\u0441\\u0442\\u0430\\u0432\", \"\\u0443\\u043f\\u043e\\u0440\\u044f\\u0434\\u043e\\u0447\\u0435\\u043d\", \"\\u043a\\u0430\\u0444\\u0435\\u0434\\u0440\", \"\\u043b\\u0435\\u0432\", \"\\u043a\\u0440\\u0438\\u0442\\u0435\\u0440\", \"\\u0441\\u043e\\u0432\\u0440\\u0435\\u043c\\u0435\\u043d\", \"\\u043f\\u0440\\u043e\\u0432\\u0435\\u0440\\u043a\", \"\\u043f\\u043e\\u043b\\u0443\\u0447\\u0430\", \"\\u0431\", \"\\u0433\\u043b\\u0430\\u0432\\u043d\", \"\\u0443\\u043a\\u0430\\u0437\\u0430\", \"\\u0441\\u043e\\u043a\\u0440\\u0430\\u0449\\u0435\\u043d\", \"\\u043a\\u043e\\u043c\\u043f\\u044c\\u044e\\u0442\\u0435\\u0440\\u043d\", \"\\u0442\\u0435\\u043e\\u0440\", \"\\u0441\\u043b\\u0435\\u0434\", \"\\u0441\\u043f\\u0438\\u0441\\u043e\\u043a\", \"\\u043a\\u043e\\u043c\\u043c\\u0443\\u0442\\u0430\\u0442\\u0438\\u0432\\u043d\", \"\\u00ee\", \"\\u0444\\u0443\\u043d\\u043a\\u0446\", \"\\u043f\\u0435\\u0440\\u0435\\u0441\\u0442\\u0430\\u043d\\u043e\\u0432\\u043a\", \"\\u043a\\u043e\\u0442\\u043e\\u0440\", \"\\ufeff\", \"\\u2013\", \"\\u043e\\u043f\\u0435\\u0440\\u0430\\u0446\", \"\\u043d\\u0438\\u0436\\u043d\", \"\\u0442\\u043e\\u0447\\u043d\\u043e\\u0441\\u0442\", \"\\u043f\\u0440\\u043e\\u0446\\u0435\\u0434\\u0443\\u0440\", \"\\u0440\\u0430\\u0437\\u0432\\u0438\\u0432\\u0430\", \"\\u043a\\u043b\\u0430\\u0441\\u0441\\u0438\\u0447\\u0435\\u0441\\u043a\", \"\\u043f\\u043e\\u043b\\u043d\\u043e\\u0441\\u0442\", \"\\u043d\\u0430\\u043b\\u043e\\u0436\\u0435\\u043d\", \"\\u043c\\u0430\\u0442\\u0435\\u0440\\u0438\\u0430\\u043b\", \"\\u0444\\u0430\\u043a\\u0442\", \"\\u0441\\u0435\\u0442\", \"\\u0433\\u0440\\u0443\\u043f\\u043f\", \"\\u043e\\u0441\\u0443\\u0449\\u0435\\u0441\\u0442\\u0432\\u043b\\u044f\", \"\\u0432\\u044b\\u043f\\u043e\\u043b\\u043d\\u0435\\u043d\", \"\\u043f\\u043e\\u0434\\u0445\\u043e\\u0434\\u044f\", \"\\u00ab\\u00bb\", \"\\u0431\", \"\\u0446\\u0438\\u043a\\u043b\\u0438\\u0447\\u0435\\u0441\\u043a\", \"\\u0438\\u043c\\u0435\\u0435\\u0442\", \"\\u043f\\u0435\\u0442\\u0440\", \"\\u0432\\u0445\\u043e\\u0434\", \"\\u043f\\u043e\\u043b\\u0443\\u0447\\u0435\\u043d\", \"\\u0441\\u0442\\u0440\\u0443\\u043a\\u0442\\u0443\\u0440\", \"\\u043f\\u0440\\u0438\\u043c\\u0435\\u043d\\u044f\", \"\\u043f\\u0440\\u043e\\u0438\\u0437\\u0432\\u0435\\u0434\\u0435\\u043d\", \"\\u0430\\u0441\\u0441\\u043e\\u0446\\u0438\\u0430\\u0442\\u0438\\u0432\\u043d\", \"\\u043a\\u043e\\u043c\\u043c\\u0443\\u0442\\u0430\\u0442\\u0438\\u0432\\u043d\", \"\\u043f\\u0440\\u0438\\u043c\\u0435\\u0440\", \"\\u043c\\u0443\\u043b\\u044c\\u0442\\u0438\\u043f\\u043b\\u0438\\u043a\\u0430\\u0442\\u0438\\u0432\\u043d\", \"\\u0447\\u0438\\u0441\\u043b\", \"\\u043f\\u043e\\u043b\\u0443\\u0433\\u0440\\u0443\\u043f\\u043f\", \"\\u0438\\u043d\\u0434\\u0435\\u043a\\u0441\"], \"Freq\": [2.0, 1.0, 1.0, 1.0, 0.0, 0.0, 0.0, 0.0, 0.0, 0.0, 0.0, 0.0, 0.0, 0.0, 0.0, 0.0, 0.0, 0.0, 0.0, 0.0, 0.0, 0.0, 0.0, 0.0, 0.0, 0.0, 0.0, 0.0, 0.0, 0.0, 0.30497396318145087, 0.37982822543675565, 1.7284285859577204, 0.080321778271213, 0.0803100260629391, 0.08030852539634412, 0.08028657588735255, 0.08027359421729, 0.08024849873254511, 0.08022451518750615, 0.08021151543712317, 0.08020162550185267, 0.0802014718191291, 0.08017579776413072, 0.08017254330645487, 0.22989946454309318, 0.15512806439627963, 0.155255856101018, 0.08023247956865176, 0.08025984413360954, 0.08023756917885039, 0.0802841621645763, 0.15503643333238404, 0.08029389841712323, 0.08019924793971725, 0.08022772444438095, 0.155204797276148, 0.08025270240704309, 0.1551647493664146, 0.08017425189673469, 0.2300173120715998, 0.1551740245707908, 0.08028130547394972, 0.08025345274034057, 0.08024955643128977, 0.08024887841927397, 0.0802382471908662, 1.000135428679185, 0.20370931180442697, 0.2035999385934936, 0.26991655142375853, 0.2699737654937699, 0.07108287971101722, 0.07107708425091477, 0.07106116283413333, 0.07104865429941222, 0.0710382385697281, 0.07102845068155508, 0.07102767795354142, 0.07102072340141849, 0.0710186869411325, 0.07101764858786415, 0.0710166504808465, 0.07101438864155651, 0.07100295870635448, 0.07097189665005539, 0.13735747545553942, 0.13730840722667204, 0.2698274945201843, 0.13730259566806932, 0.2036423098462426, 0.13742193385067883, 0.07108539107706162, 0.0710971912777702, 0.07106471255344608, 0.07107645640940367, 0.07105874000984051, 0.13726724336144439, 0.13729763732998165, 0.13724662118257985, 0.20353506163734678, 0.07106946161103003, 0.07105852268008667, 0.07104485505334507, 0.07103693459120505, 0.07103675750770193, 0.13355388246292024, 0.584731393675207, 0.06909671883845467, 0.06906019329615327, 0.06905671286768818, 0.06905260308069891, 0.06905120029362692, 0.06904706017610636, 0.06904677961869196, 0.06904320819863301, 0.0690417295852328, 0.06903727099713373, 0.06903276691323773, 0.06902959737271833, 0.06901036023325006, 0.06897672367405368, 0.19800080195044392, 0.13346850201734964, 0.06905706925143079, 0.06904216179530363, 0.06904145661045123, 0.06901191467297849, 0.06909154748287037, 0.0690328199916675, 0.13343842929557936, 0.06903563314844428, 0.06910107126969424, 0.06908644437098148, 0.06899424713850427, 0.19801049255518988, 0.13349901453182353, 0.10105891896835008, 0.13335621839052814, 0.06904796250941211, 0.12759065826499402, 0.18914946098481403, 0.37407571669927747, 0.1275272448112442, 0.06600024324841351, 0.06598332573022526, 0.06598057272919763, 0.06597757275710156, 0.06597565509939367, 0.06597394809347944, 0.06597177620084814, 0.06595472793327072, 0.06594795802045345, 0.06594746407831656, 0.06594537208808976, 0.06593584917424485, 0.06591906240544577, 0.1276120721093989, 0.2507767473291419, 0.18916378530678365, 0.12753317211688678, 0.12755509443113844, 0.1275752298370714, 0.06600252409886911, 0.0659548732103698, 0.06595271584544841, 0.1275222182236159, 0.037490026593054435, 0.06597120235630677, 0.06593292910455327, 0.12748082877808709, 0.1274969254806655, 0.06598692133842757, 0.06598316592541627, 0.06597614177767559, 0.1845140997820204, 0.06442164402981337, 0.06441108965627142, 0.06439089868079984, 0.06438458723601956, 0.06438061257895994, 0.06437430819396128, 0.0643537995283162, 0.06435367951202843, 0.06434548310555203, 0.06432966213491154, 0.064329633895785, 0.06431780876154902, 0.06429724361765086, 0.12437208831860544, 0.5447315083132288, 0.18448154006912706, 0.12441921942079016, 0.06433639716658981, 0.06431427181095067, 0.06435262760456505, 0.1844384612815999, 0.0643728538789448, 0.24452632421988652, 0.06431874771250626, 0.06436601295054202, 0.12436961739503374, 0.06433809151418184, 0.06431818998975722, 0.06432600516802542, 0.06434188967670063, 0.0643349781504815, 0.12227507733892042, 0.12214305311853593, 0.06327808364762005, 0.06325854980743009, 0.06325799209607563, 0.06325631199062033, 0.06323707094889147, 0.06321960064071303, 0.06321564786148828, 0.06320948515102151, 0.06320661293754604, 0.06319633710584012, 0.06319618373521764, 0.06317800234506225, 0.594609426128483, 0.18121762445924164, 0.18136932194765468, 0.18132063374641036, 0.1812208312995298, 0.06323772625973297, 0.06316102700571088, 0.06322392290371008, 0.1221848535845527, 0.06323711974863498, 0.06319597459345971, 0.06325486194109874, 0.12211515360802909, 0.06325278446630338, 0.06321498557925487, 0.06322233342634988, 0.24008877058340816, 0.06324294783228909, 0.06322225674103864, 0.06322065332089456, 0.06320327364081121, 0.10977276716975029, 0.10957437859533373, 0.05676601665775814, 0.05673153846210988, 0.05671896119602845, 0.056715994859688486, 0.05671236656197582, 0.05671125496646316, 0.05670037007332516, 0.05668718705013851, 0.05668694349831271, 0.05666265700983669, 0.05665036076509273, 0.05661409652272188, 0.21539193905299675, 0.21540690187798736, 0.16265819764789735, 0.05662102213746086, 0.056696635611996116, 0.10951607603518662, 0.056689466445431325, 0.3740521398064881, 0.10958349617650497, 0.1096067147838986, 0.10956135169511233, 0.05666837735528386, 0.10958892925569605, 0.10954155530311722, 0.056721446673635406, 0.05669202686206161, 0.05672373855876544, 0.0567060779289351, 0.05668447051054297, 0.056672767533067, 0.05667198067332208, 0.21573482071701064, 0.05680815420009813, 0.05680571759423322, 0.05680558084594488, 0.05679749404943912, 0.056785099681850755, 0.05677673317293704, 0.05677658399298613, 0.05676271647338249, 0.056759310197836636, 0.056754088899554675, 0.05675382783464058, 0.0567467977294538, 0.05672873452373073, 0.10984321178671236, 0.4277750010430551, 0.05674410627450607, 0.056726801400200144, 0.05675446184943196, 0.16275030405459953, 0.056810771065070396, 0.05676268539422605, 0.056765544676618554, 0.05673552842732856, 0.05678610043068813, 0.10977007631577718, 0.10974010357730621, 0.056744025468699326, 0.056743621439665604, 0.05675117989051187, 0.2685807492050234, 0.05677413495545863, 0.05675044642241988, 0.05674776118330344, 0.10846715818235844, 0.05612981548145502, 0.05612645710896136, 0.056115205335424204, 0.05610501377802099, 0.056101575736106864, 0.05609828477619975, 0.05609726133056756, 0.05609455257027158, 0.0560859053739421, 0.056073378889677415, 0.05605969413460744, 0.05605700375956234, 0.05605284869286398, 0.056046640606484274, 0.056014889278218474, 0.05600254051804562, 0.10835302254490964, 0.21301340422153364, 0.056126242614367786, 0.05605379859749266, 0.05606327313011164, 0.05607165067609492, 0.05604490626448481, 0.3178811347575564, 0.10838489031309767, 0.05604898779017966, 0.10839999073248523, 0.056083821712175956, 0.05603465955132897, 0.1083842407009, 0.05608469194738417, 0.05608121713496828, 0.05606471330809706, 0.056059596079936096, 0.056056562513541276, 0.05605517749130849, 0.10538852428620826, 0.3087593670556043, 0.054514679297565156, 0.054514506643469636, 0.054513178993010974, 0.05451157747743528, 0.05449931903665326, 0.054488668065036445, 0.0544834169990968, 0.05447193847853937, 0.05446768761563585, 0.10536802012396773, 0.05447262909492146, 0.054491972307209355, 0.05443852098067174, 0.05452019827503234, 0.054452845317010515, 0.05449341307586853, 0.10530098270618944, 0.05447963646976383, 0.0544462130183067, 0.05443460351878026, 0.05449425848557764, 0.10530610279316008, 0.10536299529442911, 0.05446502040753952, 0.10526870234391646, 0.05451479241576567, 0.05449352024047954, 0.054448713525897, 0.10527993081371484, 0.105337775889304, 0.05448403021881537, 0.05447168247419085, 0.05446924150249554, 0.20848308735710372, 0.20826810481575259, 0.054850667401908554, 0.054836419358148925, 0.05482938123923564, 0.054829351617523045, 0.05482695225880261, 0.05482399008754281, 0.05482287038680661, 0.054812947113086284, 0.05480639479025961, 0.05479938629305892, 0.05479699878302353, 0.05479513853947238, 0.054776571650015954, 0.10592814475045591, 0.10594989893618786, 0.054841129210452005, 0.0548176688140744, 0.05482429222901131, 0.05477332511031522, 0.05478048764042141, 0.1059488799492745, 0.05482378865989714, 0.05479548807568103, 0.05478465837755521, 0.05480395396114154, 0.05479186237805904, 0.05482002077805468, 0.05475916593169338, 0.10588098698399992, 0.15304598234260186, 0.1032306764109728, 0.1031834061921719, 0.05339617312457144, 0.053391752795681355, 0.05339164243267359, 0.053381140521197544, 0.053377237155870165, 0.05337534355900004, 0.0533708767614751, 0.05336893669597013, 0.0533633023739946, 0.05336314554235198, 0.053355356237435286, 0.05335054092514899, 0.05334654462255191, 0.053339667264594146, 0.053333945813928266, 0.053324396509466646, 0.05332367043704712, 0.053322044034827376, 0.1031859387327712, 0.1529103287803167, 0.05337329893906665, 0.053374013394327464, 0.053369709237024505, 0.053358161781264346, 0.053394343422074234, 0.053375291281785836, 0.05337548296490459, 0.0533735312822409, 0.05336887280159721, 0.05334032944264075, 0.05333955690158637, 0.34314308237558017, 0.10054292292989124, 0.05201893947438907, 0.05200569396890568, 0.051989475444876414, 0.05198451475107417, 0.051979412484960213, 0.05197707937326326, 0.051976784902854914, 0.05196887384207667, 0.05195824459291364, 0.051955464112711694, 0.05194465365098968, 0.05187430920074823, 0.1004427463621267, 0.14898939837617955, 0.0519385717044787, 0.052012262924168925, 0.051947077368966116, 0.10044635928752149, 0.14889460155625991, 0.051980822545184824, 0.10048774370567995, 0.10045998420680026, 0.14896886472808943, 0.051964790896607015, 0.10047068707356538, 0.05197023293626907, 0.05193910967926319, 0.0034829630744313395, 0.05196126291459925, 0.05195110934840356, 0.144960873029507, 0.1448230655556243, 0.097650129226065, 0.05059519348047292, 0.050585923331885135, 0.05058508803581097, 0.05055853872333607, 0.050554438675285765, 0.0505462767953454, 0.05053717043030157, 0.05053608399946001, 0.05052554725813232, 0.05052048634662415, 0.05049496887047616, 0.05048965682420059, 0.05049941832342023, 0.050527605471334676, 0.050460972866202825, 0.050548143927746474, 0.05051377122132204, 0.05054734684783257, 0.09769354278411568, 0.050558151102282047, 0.05055351602798816, 0.05048994617512824, 0.14476250931997314, 0.05052655725665337, 0.05055835856143772, 0.05052173656100967, 0.050478011814225475, 0.09774392260223586], \"Total\": [2.0, 1.0, 1.0, 1.0, 0.0, 0.0, 0.0, 0.0, 0.0, 0.0, 0.0, 0.0, 0.0, 0.0, 0.0, 0.0, 0.0, 0.0, 0.0, 0.0, 0.0, 0.0, 0.0, 0.0, 0.0, 0.0, 0.0, 0.0, 0.0, 0.0, 0.4227491875443585, 0.5862342397982201, 2.7796026209415845, 0.13181117971324996, 0.1317994629809294, 0.131797939614786, 0.1317760552159565, 0.13176307120205524, 0.13173801222720463, 0.13171403114097632, 0.13170108340708025, 0.13169117031239314, 0.13169104920218197, 0.13166542791142902, 0.1316621227339344, 0.3821954670681747, 0.2588950149360994, 0.26576176038594146, 0.18154061987416867, 0.1825931663954803, 0.18401442179784874, 0.19181466641006353, 0.37677390856543763, 0.19624307977310962, 0.19605650714516315, 0.19619159349202564, 0.4337143969155507, 0.23366338616910165, 0.46257978812870015, 0.24621232043805852, 0.7366597989656484, 0.5658619926028011, 0.2863581791521975, 0.3138760043222769, 0.2503742098393739, 0.5897977451251594, 0.4135170237248067, 1.1051719007846368, 0.2558166849128045, 0.2557075056297175, 0.37491757139870724, 0.4569276163865851, 0.1231893420073043, 0.12318356453588696, 0.12316764140932802, 0.12315517620274091, 0.12314473080438168, 0.12313496934173625, 0.1231341932110315, 0.12312727557491947, 0.12312522793038755, 0.12312421937109683, 0.12312320192348303, 0.12312093088031961, 0.12310957545093996, 0.12307850502157933, 0.24848252014872524, 0.2494419556971852, 0.49055711544840214, 0.30491852507127193, 0.46233365428743495, 0.32335212280762976, 0.1739760566099697, 0.17551763455861052, 0.17547692373628557, 0.17611481916711563, 0.1761271450235607, 0.34632944035481755, 0.45290750292296733, 0.8752575642434884, 2.7796026209415845, 0.2503742098393739, 0.36179702493601, 0.4227491875443585, 0.3865189265565697, 0.35108737981244703, 0.1857945980199356, 0.8752575642434884, 0.12133703536582074, 0.12130052373334119, 0.12129706252560597, 0.12129293923707878, 0.1212915338248835, 0.12128742588855775, 0.12128712241943443, 0.1212835641659758, 0.12128210352560144, 0.12127766022045613, 0.1212731482476001, 0.12126994248029085, 0.12125075907638838, 0.12121712675551254, 0.3733439199959644, 0.2826068777294771, 0.16846476790615522, 0.16845450396383357, 0.17106422310473116, 0.17236014144814468, 0.17422239625126446, 0.17428026533046012, 0.3556649853677317, 0.1875458809287012, 0.19619159349202564, 0.19624307977310962, 0.19605650714516315, 0.5658619926028011, 0.3823946423446832, 0.46879223171531614, 2.7796026209415845, 0.231142170173338, 0.18003720518380423, 0.3164303264317118, 0.6442181036913099, 0.22847206804775114, 0.11844639473327159, 0.11842950212574116, 0.11842673488085763, 0.11842369357048585, 0.11842182892091935, 0.11842012823622376, 0.1184179097958074, 0.11840089455681094, 0.11839416153549422, 0.11839367314788975, 0.11839155439693241, 0.11838207471679049, 0.11836525297576277, 0.23090166514293825, 0.47037428741620296, 0.396197453064607, 0.28089154288902374, 0.2819410260662982, 0.3138760043222769, 0.1682426235033921, 0.16819931402487803, 0.16919471212142437, 0.3733439199959644, 0.11946822358530966, 0.21667237346780166, 0.22065686126106526, 0.4345015575561005, 2.7796026209415845, 0.24621232043805852, 0.3047856679331888, 0.22967297756828325, 0.23707028558012622, 0.11697687363778744, 0.11696631443203127, 0.1169461311123992, 0.11693987365843012, 0.11693589452061044, 0.11692961316712502, 0.11690909866162721, 0.11690901180463134, 0.11690079800480366, 0.11688500844010974, 0.11688500102280681, 0.11687316295101147, 0.11685265886230878, 0.24316980368934585, 1.1930426003857515, 0.4135170237248067, 0.3047856679331888, 0.1677209553460276, 0.18312265575090125, 0.19181466641006353, 0.5897977451251594, 0.22296807724031248, 0.870952049182066, 0.22920831222841617, 0.231142170173338, 0.47037428741620296, 0.2494419556971852, 0.26881113801178286, 0.3461701425195449, 0.37147369512177003, 0.5658619926028011, 0.17490578972703047, 0.17477391543899926, 0.11590830379228054, 0.11588874455913264, 0.11588823399255893, 0.11588651063986058, 0.11586738382505977, 0.1158498810982965, 0.11584592648329334, 0.11583975241719467, 0.11583691903349605, 0.11582662762074773, 0.11582651596990774, 0.11580834065712016, 1.121974425579787, 0.3461701425195449, 0.36179702493601, 0.44029698336895806, 0.44529812639301597, 0.16302916919178154, 0.16689215787430686, 0.16875196197641504, 0.37677390856543763, 0.22046328704336635, 0.22967297756828325, 0.24848252014872524, 0.49055711544840214, 0.26576176038594146, 0.3138760043222769, 0.32335212280762976, 2.7796026209415845, 0.48324679594026765, 0.5444665560497146, 0.4337143969155507, 0.47391490796546965, 0.16284103287548352, 0.16264297135105502, 0.10983395330921228, 0.10979958767678183, 0.10978696420069832, 0.1097840740211238, 0.10978040028393704, 0.10977925376758838, 0.10976841525675624, 0.10975525249319666, 0.10975500183400973, 0.10973075637987612, 0.10971846759550755, 0.10968223916797813, 0.43820966076241435, 0.48324679594026765, 0.45290750292296733, 0.16049158909686387, 0.16875196197641504, 0.32966232271973567, 0.17422239625126446, 1.1930426003857515, 0.37147369512177003, 0.3865189265565697, 0.44029698336895806, 0.2863581791521975, 0.5658619926028011, 0.5897977451251594, 0.3556649853677317, 0.37491757139870724, 1.1051719007846368, 0.870952049182066, 0.46233365428743495, 0.396197453064607, 0.4337143969155507, 0.26879943335696627, 0.10987140016918769, 0.10986893946972298, 0.10986878207590443, 0.10986073044293052, 0.10984835978874942, 0.10984000233797404, 0.10983984699524606, 0.10982601044749196, 0.10982259064197576, 0.10981738671004473, 0.10981708369236055, 0.10981015088209647, 0.10979205796856577, 0.22296807724031248, 0.870952049182066, 0.15693506872468493, 0.15825472057522832, 0.1606607346733842, 0.46257978812870015, 0.17428026533046012, 0.17608875897297646, 0.1761271450235607, 0.17611481916711563, 0.24621232043805852, 0.48324679594026765, 0.5897977451251594, 0.32966232271973567, 0.3865189265565697, 0.4345015575561005, 2.7796026209415845, 0.47391490796546965, 0.44529812639301597, 0.8752575642434884, 0.16157683378122545, 0.10923899644406906, 0.10923565584882376, 0.10922440115075993, 0.10921424829707849, 0.1092107847963155, 0.10920754123553651, 0.10920649248626337, 0.10920381364462944, 0.10919521362321866, 0.10918266607771775, 0.10916896817827157, 0.1091662995737266, 0.10916218959905552, 0.10915601452976414, 0.1091242611599986, 0.10911195241686227, 0.22046328704336635, 0.5361095917010547, 0.15639748212677262, 0.16003285338635134, 0.17547692373628557, 0.17551763455861052, 0.18401442179784874, 1.121974425579787, 0.3865189265565697, 0.22967297756828325, 0.45290750292296733, 0.2503742098393739, 0.2588950149360994, 0.5444665560497146, 0.26881113801178286, 0.3821954670681747, 0.3461701425195449, 0.7366597989656484, 0.37677390856543763, 0.5862342397982201, 0.1586053955722931, 0.47391490796546965, 0.10773113083715356, 0.10773095056004066, 0.10772961434206622, 0.1077280237526263, 0.10771581126902267, 0.10770517373594776, 0.10769991784655145, 0.10768845015262349, 0.10768420676640436, 0.2863581791521975, 0.15476412893631686, 0.15485001689887945, 0.15880673198430745, 0.16003285338635134, 0.16049158909686387, 0.1606607346733842, 0.31720467130144125, 0.1677209553460276, 0.16919471212142437, 0.1739760566099697, 0.1825931663954803, 0.37147369512177003, 0.396197453064607, 0.20993762812813568, 0.4135170237248067, 0.22920831222841617, 0.23090166514293825, 0.23366338616910165, 0.5444665560497146, 0.6442181036913099, 0.43820966076241435, 0.35108737981244703, 0.44029698336895806, 0.3088506298197104, 0.32769373301038035, 0.10804488320926073, 0.10803067466721031, 0.10802362668968768, 0.10802361935624404, 0.10802123452765529, 0.10801826702733225, 0.10801713803511874, 0.1080072434994432, 0.10800064162065968, 0.10799368674118495, 0.1079913194254789, 0.1079894525534663, 0.10797090214709128, 0.20993762812813568, 0.22065686126106526, 0.1565650866196576, 0.15780948690862212, 0.15880673198430745, 0.16689215787430686, 0.17236014144814468, 0.35108737981244703, 0.21667237346780166, 0.23366338616910165, 0.28089154288902374, 0.2819410260662982, 0.30491852507127193, 0.3823946423446832, 0.5444665560497146, 1.1930426003857515, 0.2063379172071947, 0.15652223862363585, 0.15647509731280188, 0.10668732694918641, 0.10668288742756526, 0.10668282194020873, 0.10667228431112034, 0.10666842613419542, 0.1066664960431592, 0.10666202305278394, 0.1066601260538847, 0.10665450501701147, 0.1066543229047031, 0.1066465674455854, 0.10664177945254455, 0.10663777386835048, 0.10663090070979597, 0.10662518529309077, 0.106615663422174, 0.10661489488275061, 0.10661331173715406, 0.26881113801178286, 0.4345015575561005, 0.15780948690862212, 0.16819931402487803, 0.1682426235033921, 0.17106422310473116, 0.18154061987416867, 0.231142170173338, 0.28089154288902374, 0.48324679594026765, 0.5052747696408034, 0.32966232271973567, 0.44029698336895806, 0.5052747696408034, 0.15392767549251937, 0.10540324349435025, 0.10539001123807432, 0.1053738004116481, 0.10536888155416099, 0.1053637834641892, 0.1053614346353921, 0.10536117516529274, 0.1053532590757427, 0.10534263895514283, 0.10533985686981542, 0.105329028718584, 0.10525883759530096, 0.21821438729093687, 0.3823946423446832, 0.15243635967021033, 0.1565650866196576, 0.15825472057522832, 0.34632944035481755, 0.5361095917010547, 0.22847206804775114, 0.44529812639301597, 0.46257978812870015, 0.7366597989656484, 0.3821954670681747, 0.870952049182066, 0.46233365428743495, 0.46879223171531614, 0.05686682456179583, 1.1930426003857515, 2.7796026209415845, 0.19844242911159907, 0.19830490945214663, 0.15113151471453895, 0.10407587560172779, 0.10406666267672035, 0.10406580762524836, 0.10403927577750517, 0.10403519813865758, 0.1040270419735602, 0.10401799504469889, 0.1040168734840559, 0.10400631917267875, 0.10400134564190272, 0.10397583073663534, 0.1039706012928105, 0.15243635967021033, 0.15485001689887945, 0.15476412893631686, 0.15639748212677262, 0.15693506872468493, 0.16302916919178154, 0.31720467130144125, 0.16845450396383357, 0.16846476790615522, 0.21667237346780166, 0.7366597989656484, 0.2826068777294771, 0.3088506298197104, 0.37147369512177003, 0.47037428741620296, 1.121974425579787], \"Category\": [\"Default\", \"Default\", \"Default\", \"Default\", \"Default\", \"Default\", \"Default\", \"Default\", \"Default\", \"Default\", \"Default\", \"Default\", \"Default\", \"Default\", \"Default\", \"Default\", \"Default\", \"Default\", \"Default\", \"Default\", \"Default\", \"Default\", \"Default\", \"Default\", \"Default\", \"Default\", \"Default\", \"Default\", \"Default\", \"Default\", \"Topic1\", \"Topic1\", \"Topic1\", \"Topic1\", \"Topic1\", \"Topic1\", \"Topic1\", \"Topic1\", \"Topic1\", \"Topic1\", \"Topic1\", \"Topic1\", \"Topic1\", \"Topic1\", \"Topic1\", \"Topic1\", \"Topic1\", \"Topic1\", \"Topic1\", \"Topic1\", \"Topic1\", \"Topic1\", \"Topic1\", \"Topic1\", \"Topic1\", \"Topic1\", \"Topic1\", \"Topic1\", \"Topic1\", \"Topic1\", \"Topic1\", \"Topic1\", \"Topic1\", \"Topic1\", \"Topic1\", \"Topic1\", \"Topic1\", \"Topic2\", \"Topic2\", \"Topic2\", \"Topic2\", \"Topic2\", \"Topic2\", \"Topic2\", \"Topic2\", \"Topic2\", \"Topic2\", \"Topic2\", \"Topic2\", \"Topic2\", \"Topic2\", \"Topic2\", \"Topic2\", \"Topic2\", \"Topic2\", \"Topic2\", \"Topic2\", \"Topic2\", \"Topic2\", \"Topic2\", \"Topic2\", \"Topic2\", \"Topic2\", \"Topic2\", \"Topic2\", \"Topic2\", \"Topic2\", \"Topic2\", \"Topic2\", \"Topic2\", \"Topic2\", \"Topic2\", \"Topic2\", \"Topic2\", \"Topic2\", \"Topic2\", \"Topic3\", \"Topic3\", \"Topic3\", \"Topic3\", \"Topic3\", \"Topic3\", \"Topic3\", \"Topic3\", \"Topic3\", \"Topic3\", \"Topic3\", \"Topic3\", \"Topic3\", \"Topic3\", \"Topic3\", \"Topic3\", \"Topic3\", \"Topic3\", \"Topic3\", \"Topic3\", \"Topic3\", \"Topic3\", \"Topic3\", \"Topic3\", \"Topic3\", \"Topic3\", \"Topic3\", \"Topic3\", \"Topic3\", \"Topic3\", \"Topic3\", \"Topic3\", \"Topic3\", \"Topic3\", \"Topic4\", \"Topic4\", \"Topic4\", \"Topic4\", \"Topic4\", \"Topic4\", \"Topic4\", \"Topic4\", \"Topic4\", \"Topic4\", \"Topic4\", \"Topic4\", \"Topic4\", \"Topic4\", \"Topic4\", \"Topic4\", \"Topic4\", \"Topic4\", \"Topic4\", \"Topic4\", \"Topic4\", \"Topic4\", \"Topic4\", \"Topic4\", \"Topic4\", \"Topic4\", \"Topic4\", \"Topic4\", \"Topic4\", \"Topic4\", \"Topic4\", \"Topic4\", \"Topic4\", \"Topic4\", \"Topic4\", \"Topic5\", \"Topic5\", \"Topic5\", \"Topic5\", \"Topic5\", \"Topic5\", \"Topic5\", \"Topic5\", \"Topic5\", \"Topic5\", \"Topic5\", \"Topic5\", \"Topic5\", \"Topic5\", \"Topic5\", \"Topic5\", \"Topic5\", \"Topic5\", \"Topic5\", \"Topic5\", \"Topic5\", \"Topic5\", \"Topic5\", \"Topic5\", \"Topic5\", \"Topic5\", \"Topic5\", \"Topic5\", \"Topic5\", \"Topic5\", \"Topic5\", \"Topic5\", \"Topic6\", \"Topic6\", \"Topic6\", \"Topic6\", \"Topic6\", \"Topic6\", \"Topic6\", \"Topic6\", \"Topic6\", \"Topic6\", \"Topic6\", \"Topic6\", \"Topic6\", \"Topic6\", \"Topic6\", \"Topic6\", \"Topic6\", \"Topic6\", \"Topic6\", \"Topic6\", \"Topic6\", \"Topic6\", \"Topic6\", \"Topic6\", \"Topic6\", \"Topic6\", \"Topic6\", \"Topic6\", \"Topic6\", \"Topic6\", \"Topic6\", \"Topic6\", \"Topic6\", \"Topic6\", \"Topic6\", \"Topic7\", \"Topic7\", \"Topic7\", \"Topic7\", \"Topic7\", \"Topic7\", \"Topic7\", \"Topic7\", \"Topic7\", \"Topic7\", \"Topic7\", \"Topic7\", \"Topic7\", \"Topic7\", \"Topic7\", \"Topic7\", \"Topic7\", \"Topic7\", \"Topic7\", \"Topic7\", \"Topic7\", \"Topic7\", \"Topic7\", \"Topic7\", \"Topic7\", \"Topic7\", \"Topic7\", \"Topic7\", \"Topic7\", \"Topic7\", \"Topic7\", \"Topic7\", \"Topic7\", \"Topic7\", \"Topic7\", \"Topic8\", \"Topic8\", \"Topic8\", \"Topic8\", \"Topic8\", \"Topic8\", \"Topic8\", \"Topic8\", \"Topic8\", \"Topic8\", \"Topic8\", \"Topic8\", \"Topic8\", \"Topic8\", \"Topic8\", \"Topic8\", \"Topic8\", \"Topic8\", \"Topic8\", \"Topic8\", \"Topic8\", \"Topic8\", \"Topic8\", \"Topic8\", \"Topic8\", \"Topic8\", \"Topic8\", \"Topic8\", \"Topic8\", \"Topic8\", \"Topic8\", \"Topic8\", \"Topic8\", \"Topic8\", \"Topic9\", \"Topic9\", \"Topic9\", \"Topic9\", \"Topic9\", \"Topic9\", \"Topic9\", \"Topic9\", \"Topic9\", \"Topic9\", \"Topic9\", \"Topic9\", \"Topic9\", \"Topic9\", \"Topic9\", \"Topic9\", \"Topic9\", \"Topic9\", \"Topic9\", \"Topic9\", \"Topic9\", \"Topic9\", \"Topic9\", \"Topic9\", \"Topic9\", \"Topic9\", \"Topic9\", \"Topic9\", \"Topic9\", \"Topic9\", \"Topic9\", \"Topic9\", \"Topic9\", \"Topic9\", \"Topic9\", \"Topic9\", \"Topic9\", \"Topic10\", \"Topic10\", \"Topic10\", \"Topic10\", \"Topic10\", \"Topic10\", \"Topic10\", \"Topic10\", \"Topic10\", \"Topic10\", \"Topic10\", \"Topic10\", \"Topic10\", \"Topic10\", \"Topic10\", \"Topic10\", \"Topic10\", \"Topic10\", \"Topic10\", \"Topic10\", \"Topic10\", \"Topic10\", \"Topic10\", \"Topic10\", \"Topic10\", \"Topic10\", \"Topic10\", \"Topic10\", \"Topic10\", \"Topic10\", \"Topic10\", \"Topic10\", \"Topic10\", \"Topic10\", \"Topic10\", \"Topic11\", \"Topic11\", \"Topic11\", \"Topic11\", \"Topic11\", \"Topic11\", \"Topic11\", \"Topic11\", \"Topic11\", \"Topic11\", \"Topic11\", \"Topic11\", \"Topic11\", \"Topic11\", \"Topic11\", \"Topic11\", \"Topic11\", \"Topic11\", \"Topic11\", \"Topic11\", \"Topic11\", \"Topic11\", \"Topic11\", \"Topic11\", \"Topic11\", \"Topic11\", \"Topic11\", \"Topic11\", \"Topic11\", \"Topic11\", \"Topic11\", \"Topic12\", \"Topic12\", \"Topic12\", \"Topic12\", \"Topic12\", \"Topic12\", \"Topic12\", \"Topic12\", \"Topic12\", \"Topic12\", \"Topic12\", \"Topic12\", \"Topic12\", \"Topic12\", \"Topic12\", \"Topic12\", \"Topic12\", \"Topic12\", \"Topic12\", \"Topic12\", \"Topic12\", \"Topic12\", \"Topic12\", \"Topic12\", \"Topic12\", \"Topic12\", \"Topic12\", \"Topic12\", \"Topic12\", \"Topic12\", \"Topic12\", \"Topic12\", \"Topic12\", \"Topic12\", \"Topic13\", \"Topic13\", \"Topic13\", \"Topic13\", \"Topic13\", \"Topic13\", \"Topic13\", \"Topic13\", \"Topic13\", \"Topic13\", \"Topic13\", \"Topic13\", \"Topic13\", \"Topic13\", \"Topic13\", \"Topic13\", \"Topic13\", \"Topic13\", \"Topic13\", \"Topic13\", \"Topic13\", \"Topic13\", \"Topic13\", \"Topic13\", \"Topic13\", \"Topic13\", \"Topic13\", \"Topic13\", \"Topic13\", \"Topic13\", \"Topic13\", \"Topic13\", \"Topic14\", \"Topic14\", \"Topic14\", \"Topic14\", \"Topic14\", \"Topic14\", \"Topic14\", \"Topic14\", \"Topic14\", \"Topic14\", \"Topic14\", \"Topic14\", \"Topic14\", \"Topic14\", \"Topic14\", \"Topic14\", \"Topic14\", \"Topic14\", \"Topic14\", \"Topic14\", \"Topic14\", \"Topic14\", \"Topic14\", \"Topic14\", \"Topic14\", \"Topic14\", \"Topic14\", \"Topic14\", \"Topic14\", \"Topic14\", \"Topic14\"], \"logprob\": [30.0, 29.0, 28.0, 27.0, 26.0, 25.0, 24.0, 23.0, 22.0, 21.0, 20.0, 19.0, 18.0, 17.0, 16.0, 15.0, 14.0, 13.0, 12.0, 11.0, 10.0, 9.0, 8.0, 7.0, 6.0, 5.0, 4.0, 3.0, 2.0, 1.0, -5.5398, -5.3203, -3.8051, -6.874, -6.8741, -6.8741, -6.8744, -6.8746, -6.8749, -6.8752, -6.8754, -6.8755, -6.8755, -6.8758, -6.8758, -5.8224, -6.2158, -6.2149, -6.8751, -6.8748, -6.875, -6.8745, -6.2164, -6.8743, -6.8755, -6.8752, -6.2153, -6.8748, -6.2155, -6.8758, -5.8219, -6.2155, -6.8745, -6.8748, -6.8749, -6.8749, -6.875, -4.236, -5.8272, -5.8278, -5.5458, -5.5456, -6.8801, -6.8802, -6.8804, -6.8806, -6.8807, -6.8808, -6.8809, -6.881, -6.881, -6.881, -6.881, -6.881, -6.8812, -6.8816, -6.2213, -6.2217, -5.5461, -6.2217, -5.8276, -6.2209, -6.88, -6.8799, -6.8803, -6.8802, -6.8804, -6.222, -6.2218, -6.2221, -5.8281, -6.8803, -6.8804, -6.8806, -6.8807, -6.8807, -6.1897, -4.7131, -6.8487, -6.8492, -6.8493, -6.8493, -6.8494, -6.8494, -6.8494, -6.8495, -6.8495, -6.8496, -6.8496, -6.8497, -6.85, -6.8504, -5.7959, -6.1903, -6.8493, -6.8495, -6.8495, -6.8499, -6.8488, -6.8496, -6.1906, -6.8496, -6.8486, -6.8488, -6.8502, -5.7959, -6.1901, -6.4685, -6.1912, -6.8494, -6.1924, -5.7987, -5.1168, -6.1929, -6.8516, -6.8519, -6.8519, -6.8519, -6.852, -6.852, -6.852, -6.8523, -6.8524, -6.8524, -6.8524, -6.8526, -6.8528, -6.1923, -5.5167, -5.7986, -6.1929, -6.1927, -6.1926, -6.8516, -6.8523, -6.8523, -6.193, -7.4172, -6.852, -6.8526, -6.1933, -6.1932, -6.8518, -6.8519, -6.852, -5.795, -6.8473, -6.8475, -6.8478, -6.8479, -6.8479, -6.848, -6.8484, -6.8484, -6.8485, -6.8487, -6.8487, -6.8489, -6.8492, -6.1895, -4.7125, -5.7952, -6.1891, -6.8486, -6.849, -6.8484, -5.7954, -6.8481, -5.5134, -6.8489, -6.8482, -6.1895, -6.8486, -6.8489, -6.8488, -6.8485, -6.8487, -6.1939, -6.195, -6.8526, -6.8529, -6.8529, -6.853, -6.8533, -6.8535, -6.8536, -6.8537, -6.8538, -6.8539, -6.8539, -6.8542, -4.6123, -5.8005, -5.7996, -5.7999, -5.8004, -6.8533, -6.8545, -6.8535, -6.1946, -6.8533, -6.8539, -6.853, -6.1952, -6.853, -6.8536, -6.8535, -5.5192, -6.8532, -6.8535, -6.8535, -6.8538, -6.1917, -6.1935, -6.8512, -6.8518, -6.852, -6.8521, -6.8521, -6.8521, -6.8523, -6.8526, -6.8526, -6.853, -6.8532, -6.8539, -5.5177, -5.5176, -5.7985, -6.8537, -6.8524, -6.194, -6.8525, -4.9657, -6.1934, -6.1932, -6.1936, -6.8529, -6.1934, -6.1938, -6.852, -6.8525, -6.8519, -6.8522, -6.8526, -6.8528, -6.8528, -5.5114, -6.8458, -6.8458, -6.8458, -6.846, -6.8462, -6.8463, -6.8463, -6.8466, -6.8466, -6.8467, -6.8467, -6.8468, -6.8472, -6.1864, -4.8268, -6.8469, -6.8472, -6.8467, -5.7932, -6.8457, -6.8466, -6.8465, -6.847, -6.8462, -6.1871, -6.1873, -6.8469, -6.8469, -6.8468, -5.2923, -6.8464, -6.8468, -6.8468, -6.1848, -6.8436, -6.8437, -6.8439, -6.8441, -6.8441, -6.8442, -6.8442, -6.8442, -6.8444, -6.8446, -6.8449, -6.8449, -6.845, -6.8451, -6.8457, -6.8459, -6.1859, -5.5099, -6.8437, -6.845, -6.8448, -6.8447, -6.8451, -5.1096, -6.1856, -6.8451, -6.1855, -6.8444, -6.8453, -6.1856, -6.8444, -6.8445, -6.8448, -6.8449, -6.8449, -6.8449, -6.1847, -5.1098, -6.8439, -6.8439, -6.8439, -6.8439, -6.8442, -6.8443, -6.8444, -6.8447, -6.8447, -6.1849, -6.8446, -6.8443, -6.8453, -6.8438, -6.845, -6.8443, -6.1855, -6.8445, -6.8451, -6.8453, -6.8442, -6.1855, -6.1849, -6.8448, -6.1858, -6.8439, -6.8443, -6.8451, -6.1857, -6.1852, -6.8444, -6.8447, -6.8447, -5.4976, -5.4986, -6.8328, -6.8331, -6.8332, -6.8332, -6.8332, -6.8333, -6.8333, -6.8335, -6.8336, -6.8337, -6.8338, -6.8338, -6.8342, -6.1747, -6.1744, -6.833, -6.8334, -6.8333, -6.8342, -6.8341, -6.1745, -6.8333, -6.8338, -6.834, -6.8337, -6.8339, -6.8334, -6.8345, -6.1751, -5.7869, -6.1807, -6.1812, -6.8399, -6.84, -6.84, -6.8402, -6.8403, -6.8403, -6.8404, -6.8405, -6.8406, -6.8406, -6.8407, -6.8408, -6.8409, -6.841, -6.8411, -6.8413, -6.8413, -6.8413, -6.1811, -5.7878, -6.8404, -6.8404, -6.8404, -6.8407, -6.84, -6.8403, -6.8403, -6.8404, -6.8405, -6.841, -6.841, -4.9541, -6.1817, -6.8407, -6.8409, -6.8412, -6.8413, -6.8414, -6.8415, -6.8415, -6.8416, -6.8418, -6.8419, -6.8421, -6.8435, -6.1827, -5.7884, -6.8422, -6.8408, -6.8421, -6.1827, -5.789, -6.8414, -6.1822, -6.1825, -5.7885, -6.8417, -6.1824, -6.8416, -6.8422, -9.5444, -6.8418, -6.842, -5.7792, -5.7802, -6.1743, -6.8318, -6.832, -6.832, -6.8326, -6.8326, -6.8328, -6.833, -6.833, -6.8332, -6.8333, -6.8338, -6.8339, -6.8337, -6.8332, -6.8345, -6.8328, -6.8334, -6.8328, -6.1739, -6.8326, -6.8327, -6.8339, -5.7806, -6.8332, -6.8326, -6.8333, -6.8342, -6.1733], \"loglift\": [30.0, 29.0, 28.0, 27.0, 26.0, 25.0, 24.0, 23.0, 22.0, 21.0, 20.0, 19.0, 18.0, 17.0, 16.0, 15.0, 14.0, 13.0, 12.0, 11.0, 10.0, 9.0, 8.0, 7.0, 6.0, 5.0, 4.0, 3.0, 2.0, 1.0, 2.0083, 1.9008, 1.8597, 1.8395, 1.8395, 1.8394, 1.8393, 1.8393, 1.8392, 1.839, 1.839, 1.8389, 1.8389, 1.8388, 1.8388, 1.8266, 1.8227, 1.7973, 1.5183, 1.5128, 1.5048, 1.4639, 1.4469, 1.4412, 1.441, 1.4406, 1.3072, 1.2661, 1.2425, 1.2128, 1.1709, 1.041, 1.0631, 0.971, 1.197, 0.3402, 0.6951, 2.3511, 2.2232, 2.2231, 2.1223, 1.9247, 1.9011, 1.901, 1.9009, 1.9009, 1.9008, 1.9007, 1.9007, 1.9007, 1.9007, 1.9007, 1.9007, 1.9007, 1.9006, 1.9004, 1.8582, 1.8539, 1.8532, 1.6531, 1.631, 1.5953, 1.5559, 1.5472, 1.547, 1.5436, 1.5432, 1.5255, 1.2574, 0.5982, -0.1633, 1.1916, 0.8234, 0.6675, 0.757, 0.8531, 2.1805, 2.1073, 1.9476, 1.9474, 1.9473, 1.9473, 1.9473, 1.9473, 1.9473, 1.9473, 1.9472, 1.9472, 1.9472, 1.9472, 1.9471, 1.9468, 1.8764, 1.7605, 1.6189, 1.6187, 1.6033, 1.5954, 1.5858, 1.5846, 1.5303, 1.5113, 1.4671, 1.4667, 1.4663, 1.4606, 1.4583, 0.9762, -0.5264, 1.3024, 2.2093, 2.039, 2.01, 1.9705, 1.9688, 1.9687, 1.9687, 1.9687, 1.9686, 1.9686, 1.9686, 1.9685, 1.9685, 1.9684, 1.9684, 1.9684, 1.9683, 1.9606, 1.9246, 1.8143, 1.764, 1.7605, 1.6533, 1.6179, 1.6174, 1.6115, 1.4794, 1.3946, 1.3644, 1.3456, 1.3274, -0.5284, 1.2369, 1.0234, 1.3062, 2.3315, 1.9856, 1.9855, 1.9854, 1.9853, 1.9853, 1.9852, 1.9851, 1.9851, 1.985, 1.9849, 1.9849, 1.9849, 1.9847, 1.9116, 1.7981, 1.775, 1.6862, 1.6239, 1.5357, 1.49, 1.4196, 1.3398, 1.3118, 1.3113, 1.3037, 1.2518, 1.227, 1.1519, 0.8991, 0.8288, 0.4079, 2.2367, 2.2364, 1.9894, 1.9893, 1.9893, 1.9893, 1.9891, 1.989, 1.989, 1.9889, 1.9889, 1.9889, 1.9889, 1.9887, 1.9598, 1.9475, 1.9042, 1.7075, 1.6957, 1.6477, 1.623, 1.613, 1.4686, 1.3459, 1.3043, 1.2265, 1.2041, 1.1592, 0.9922, 0.9626, 0.1456, 0.5612, 0.4416, 0.6689, 0.58, 2.3104, 2.3098, 2.0447, 2.0444, 2.0443, 2.0443, 2.0443, 2.0443, 2.0442, 2.044, 2.044, 2.0438, 2.0437, 2.0434, 1.9945, 1.8968, 1.6807, 1.6629, 1.614, 1.6028, 1.582, 1.5449, 1.484, 1.4445, 1.3138, 1.0847, 1.0631, 1.0213, 0.8689, 0.8157, -0.2648, -0.027, 0.606, 0.7601, 0.6696, 2.4895, 2.0498, 2.0498, 2.0498, 2.0497, 2.0496, 2.0495, 2.0495, 2.0494, 2.0494, 2.0493, 2.0493, 2.0493, 2.0491, 2.0014, 1.9984, 1.6921, 1.6835, 1.6689, 1.6648, 1.5885, 1.5773, 1.5771, 1.5767, 1.2425, 1.2273, 1.0278, 0.9499, 0.7908, 0.6739, 0.3725, 0.5875, 0.6493, -0.0265, 2.325, 2.0577, 2.0577, 2.0576, 2.0575, 2.0575, 2.0574, 2.0574, 2.0574, 2.0573, 2.0572, 2.0571, 2.0571, 2.057, 2.057, 2.0567, 2.0566, 2.0132, 1.8006, 1.6988, 1.6745, 1.5826, 1.5825, 1.5347, 1.4624, 1.4521, 1.3132, 1.2937, 1.2275, 1.1931, 1.1095, 1.1564, 0.8044, 0.9032, 0.1479, 0.8183, 0.3762, 2.3438, 2.3241, 2.0714, 2.0714, 2.0713, 2.0713, 2.0712, 2.0711, 2.0711, 2.071, 2.0709, 1.7527, 1.7083, 1.7081, 1.6819, 1.6757, 1.6716, 1.6713, 1.6498, 1.628, 1.6187, 1.5906, 1.5434, 1.4919, 1.428, 1.4033, 1.3843, 1.3164, 1.3086, 1.2959, 1.1093, 0.9417, 0.6677, 0.8892, 0.6627, 2.3644, 2.3042, 2.0795, 2.0794, 2.0793, 2.0793, 2.0793, 2.0793, 2.0793, 2.0792, 2.0791, 2.0791, 2.079, 2.079, 2.0788, 2.0734, 2.0238, 1.7084, 1.7001, 1.6939, 1.6433, 1.6112, 1.5594, 1.3832, 1.3072, 1.1229, 1.1195, 1.0409, 0.8151, 0.4606, 0.3355, 2.4784, 2.3609, 2.3608, 2.085, 2.085, 2.085, 2.0849, 2.0848, 2.0848, 2.0848, 2.0848, 2.0847, 2.0847, 2.0846, 2.0846, 2.0846, 2.0845, 2.0844, 2.0843, 2.0843, 2.0843, 1.8197, 1.7328, 1.6931, 1.6294, 1.629, 1.6122, 1.5534, 1.3115, 1.1166, 0.574, 0.5293, 0.9558, 0.6664, 2.4156, 2.3767, 2.0964, 2.0963, 2.0961, 2.0961, 2.096, 2.096, 2.096, 2.0959, 2.0958, 2.0958, 2.0957, 2.095, 2.0267, 1.86, 1.7259, 1.7006, 1.6886, 1.5648, 1.5215, 1.322, 1.3139, 1.2755, 1.2042, 0.8072, 0.6429, 0.617, 0.6025, 0.0098, -0.3312, -1.1772, 2.5251, 2.5249, 2.4024, 2.1179, 2.1178, 2.1178, 2.1175, 2.1175, 2.1174, 2.1173, 2.1173, 2.1172, 2.1171, 2.1169, 2.1168, 1.7344, 1.7192, 1.7185, 1.7097, 1.7056, 1.6682, 1.6615, 1.6356, 1.6355, 1.3826, 1.2121, 1.1176, 1.0294, 0.8441, 0.6072, 0.3987]}, \"token.table\": {\"Topic\": [6, 1, 3, 2, 5], \"Freq\": [0.8912859127633359, 0.7195273111818064, 1.1425208314130142, 0.9048366134626042, 0.8381930365912045], \"Term\": [\"\\u0438\\u043d\\u0434\\u0435\\u043a\\u0441\", \"\\u043e\\u043f\\u0435\\u0440\\u0430\\u0446\", \"\\u043f\\u043e\\u0438\\u0441\\u043a\", \"\\u0443\\u043c\\u043d\\u043e\\u0436\\u0435\\u043d\", \"\\u2013\"]}, \"R\": 30, \"lambda.step\": 0.01, \"plot.opts\": {\"xlab\": \"PC1\", \"ylab\": \"PC2\"}, \"topic.order\": [11, 5, 14, 10, 7, 12, 4, 6, 3, 2, 9, 13, 8, 1]};\n",
       "\n",
       "function LDAvis_load_lib(url, callback){\n",
       "  var s = document.createElement('script');\n",
       "  s.src = url;\n",
       "  s.async = true;\n",
       "  s.onreadystatechange = s.onload = callback;\n",
       "  s.onerror = function(){console.warn(\"failed to load library \" + url);};\n",
       "  document.getElementsByTagName(\"head\")[0].appendChild(s);\n",
       "}\n",
       "\n",
       "if(typeof(LDAvis) !== \"undefined\"){\n",
       "   // already loaded: just create the visualization\n",
       "   !function(LDAvis){\n",
       "       new LDAvis(\"#\" + \"ldavis_el2358415275076989605290043279\", ldavis_el2358415275076989605290043279_data);\n",
       "   }(LDAvis);\n",
       "}else if(typeof define === \"function\" && define.amd){\n",
       "   // require.js is available: use it to load d3/LDAvis\n",
       "   require.config({paths: {d3: \"https://d3js.org/d3.v5\"}});\n",
       "   require([\"d3\"], function(d3){\n",
       "      window.d3 = d3;\n",
       "      LDAvis_load_lib(\"https://cdn.jsdelivr.net/gh/bmabey/pyLDAvis@3.3.1/pyLDAvis/js/ldavis.v3.0.0.js\", function(){\n",
       "        new LDAvis(\"#\" + \"ldavis_el2358415275076989605290043279\", ldavis_el2358415275076989605290043279_data);\n",
       "      });\n",
       "    });\n",
       "}else{\n",
       "    // require.js not available: dynamically load d3 & LDAvis\n",
       "    LDAvis_load_lib(\"https://d3js.org/d3.v5.js\", function(){\n",
       "         LDAvis_load_lib(\"https://cdn.jsdelivr.net/gh/bmabey/pyLDAvis@3.3.1/pyLDAvis/js/ldavis.v3.0.0.js\", function(){\n",
       "                 new LDAvis(\"#\" + \"ldavis_el2358415275076989605290043279\", ldavis_el2358415275076989605290043279_data);\n",
       "            })\n",
       "         });\n",
       "}\n",
       "</script>"
      ],
      "text/plain": [
       "PreparedData(topic_coordinates=              x         y  topics  cluster      Freq\n",
       "topic                                               \n",
       "10    -0.009242  0.021401       1        1  9.682591\n",
       "4     -0.023628 -0.011478       2        1  8.621263\n",
       "13    -0.000771  0.000409       3        1  8.121486\n",
       "9      0.009949  0.000542       4        1  7.780054\n",
       "6      0.002988 -0.007020       5        1  7.561479\n",
       "11    -0.000945  0.004667       6        1  7.466808\n",
       "3     -0.001357 -0.007885       7        1  6.688708\n",
       "5     -0.002563  0.002310       8        1  6.657554\n",
       "2     -0.000135  0.002273       9        1  6.563927\n",
       "1      0.007691 -0.004744      10        1  6.376676\n",
       "8      0.005460 -0.003674      11        1  6.345351\n",
       "12     0.007124  0.000301      12        1  6.221361\n",
       "7      0.000653  0.004125      13        1  6.065321\n",
       "0      0.004775 -0.001228      14        1  5.847422, topic_info=                 Term      Freq     Total Category  logprob  loglift\n",
       "1054           операц  2.000000  2.000000  Default  30.0000  30.0000\n",
       "1493          умножен  1.000000  1.000000  Default  29.0000  29.0000\n",
       "2001           индекс  1.000000  1.000000  Default  28.0000  28.0000\n",
       "14                  –  1.000000  1.000000  Default  27.0000  27.0000\n",
       "4615            поиск  0.000000  0.000000  Default  26.0000  26.0000\n",
       "...               ...       ...       ...      ...      ...      ...\n",
       "103            пример  0.050527  0.282607  Topic14  -6.8332   1.1176\n",
       "3277  мультипликативн  0.050558  0.308851  Topic14  -6.8326   1.0294\n",
       "332              числ  0.050522  0.371474  Topic14  -6.8333   0.8441\n",
       "2062        полугрупп  0.050478  0.470374  Topic14  -6.8342   0.6072\n",
       "2001           индекс  0.097744  1.121974  Topic14  -6.1733   0.3987\n",
       "\n",
       "[511 rows x 6 columns], token_table=      Topic      Freq     Term\n",
       "term                          \n",
       "2001      6  0.891286   индекс\n",
       "1054      1  0.719527   операц\n",
       "4615      3  1.142521    поиск\n",
       "1493      2  0.904837  умножен\n",
       "14        5  0.838193        –, R=30, lambda_step=0.01, plot_opts={'xlab': 'PC1', 'ylab': 'PC2'}, topic_order=[11, 5, 14, 10, 7, 12, 4, 6, 3, 2, 9, 13, 8, 1])"
      ]
     },
     "execution_count": 33,
     "metadata": {},
     "output_type": "execute_result"
    }
   ],
   "source": [
    "vis = gensimvis.prepare(model, corpus, dictionary)\n",
    "vis"
   ]
  },
  {
   "cell_type": "code",
   "execution_count": 35,
   "metadata": {},
   "outputs": [
    {
     "name": "stderr",
     "output_type": "stream",
     "text": [
      "C:\\Users\\lalsk\\anaconda3\\lib\\site-packages\\ipykernel\\ipkernel.py:287: DeprecationWarning: `should_run_async` will not call `transform_cell` automatically in the future. Please pass the result to `transformed_cell` argument and any exception that happen during thetransform in `preprocessing_exc_tuple` in IPython 7.17 and above.\n",
      "  and should_run_async(code)\n"
     ]
    },
    {
     "data": {
      "text/plain": [
       "['нижн',\n",
       " 'точност',\n",
       " 'коммутативн',\n",
       " 'индекс',\n",
       " 'структур',\n",
       " 'процедур',\n",
       " 'развива',\n",
       " 'классическ',\n",
       " 'полност',\n",
       " 'наложен',\n",
       " 'мультипликативн',\n",
       " 'применя',\n",
       " 'материал',\n",
       " 'произведен',\n",
       " 'элемент',\n",
       " 'под',\n",
       " 'математик',\n",
       " 'алгебр',\n",
       " 'сложен',\n",
       " 'числ',\n",
       " 'структур',\n",
       " 'изоморфн',\n",
       " 'кажд',\n",
       " 'восстанов',\n",
       " 'называ',\n",
       " 'строг',\n",
       " 'подробн',\n",
       " 'обратим',\n",
       " 'индекс',\n",
       " 'компьютерн',\n",
       " 'диагона',\n",
       " 'таблиц',\n",
       " 'каноническ',\n",
       " 'изоморфн',\n",
       " 'всем',\n",
       " 'понятн',\n",
       " 'аддитивн',\n",
       " 'петр',\n",
       " '»',\n",
       " 'å',\n",
       " 'информатик',\n",
       " 'налож',\n",
       " '–',\n",
       " 'множеств',\n",
       " 'код',\n",
       " 'таблиц',\n",
       " 'применен',\n",
       " 'каноническ',\n",
       " 'полурешеточн',\n",
       " 'числ',\n",
       " 'есл',\n",
       " 'представлен',\n",
       " 'зада',\n",
       " 'пуст',\n",
       " 'единствен',\n",
       " 'представл']"
      ]
     },
     "execution_count": 35,
     "metadata": {},
     "output_type": "execute_result"
    }
   ],
   "source": [
    "keywords_test[0]"
   ]
  },
  {
   "cell_type": "code",
   "execution_count": 38,
   "metadata": {},
   "outputs": [
    {
     "name": "stderr",
     "output_type": "stream",
     "text": [
      "C:\\Users\\lalsk\\anaconda3\\lib\\site-packages\\ipykernel\\ipkernel.py:287: DeprecationWarning: `should_run_async` will not call `transform_cell` automatically in the future. Please pass the result to `transformed_cell` argument and any exception that happen during thetransform in `preprocessing_exc_tuple` in IPython 7.17 and above.\n",
      "  and should_run_async(code)\n"
     ]
    },
    {
     "data": {
      "text/plain": [
       "\"['групп', 'произведен', 'секц', 'сибирск', 'ран', 'гов', 'множ', 'положительн', 'последн', 'люб', 'нор', 'мальн', 'общност', 'силовск', 'следовательн', 'полож', 'ул', 'соответствен', 'котор', 'подгрупп', 'счита', 'фонд', 'рассужден', 'замен', 'номер', 'постро', 'содерж', 'редколлег', 'групп', 'нормальн', 'порядк', 'изоморфн', 'доказательств', 'конечн', 'теор', 'цеп', 'нов', 'одн', 'сил', 'секц', 'либ', 'определ', 'групп', 'нормальн', 'циклическ', 'явля', 'секц', 'произведен', 'существ', 'вопрос', 'чисел', 'аабутурлакин', 'стар', 'положительн', 'хухр', 'иском']\""
      ]
     },
     "execution_count": 38,
     "metadata": {},
     "output_type": "execute_result"
    }
   ],
   "source": [
    "keywords_train['keywords'][1]"
   ]
  },
  {
   "cell_type": "code",
   "execution_count": 18,
   "metadata": {},
   "outputs": [
    {
     "data": {
      "text/html": [
       "<div>\n",
       "<style scoped>\n",
       "    .dataframe tbody tr th:only-of-type {\n",
       "        vertical-align: middle;\n",
       "    }\n",
       "\n",
       "    .dataframe tbody tr th {\n",
       "        vertical-align: top;\n",
       "    }\n",
       "\n",
       "    .dataframe thead th {\n",
       "        text-align: right;\n",
       "    }\n",
       "</style>\n",
       "<table border=\"1\" class=\"dataframe\">\n",
       "  <thead>\n",
       "    <tr style=\"text-align: right;\">\n",
       "      <th></th>\n",
       "      <th>Unnamed: 0</th>\n",
       "      <th>udc</th>\n",
       "      <th>keywords</th>\n",
       "    </tr>\n",
       "  </thead>\n",
       "  <tbody>\n",
       "    <tr>\n",
       "      <th>0</th>\n",
       "      <td>0</td>\n",
       "      <td>517</td>\n",
       "      <td>['подпоследовательн', 'последовательн', 'жп', ...</td>\n",
       "    </tr>\n",
       "    <tr>\n",
       "      <th>1</th>\n",
       "      <td>1</td>\n",
       "      <td>512</td>\n",
       "      <td>['групп', 'произведен', 'секц', 'сибирск', 'ра...</td>\n",
       "    </tr>\n",
       "    <tr>\n",
       "      <th>2</th>\n",
       "      <td>2</td>\n",
       "      <td>517</td>\n",
       "      <td>['х', 'отрезк', 'параграф', 'обознач', 'функц'...</td>\n",
       "    </tr>\n",
       "    <tr>\n",
       "      <th>3</th>\n",
       "      <td>3</td>\n",
       "      <td>517</td>\n",
       "      <td>['°', 'двух', 'числ', 'свойств', 'тройк', 'дос...</td>\n",
       "    </tr>\n",
       "    <tr>\n",
       "      <th>4</th>\n",
       "      <td>4</td>\n",
       "      <td>510</td>\n",
       "      <td>['метаперемен', 'множеств', 'называ', 'проверк...</td>\n",
       "    </tr>\n",
       "  </tbody>\n",
       "</table>\n",
       "</div>"
      ],
      "text/plain": [
       "   Unnamed: 0  udc                                           keywords\n",
       "0           0  517  ['подпоследовательн', 'последовательн', 'жп', ...\n",
       "1           1  512  ['групп', 'произведен', 'секц', 'сибирск', 'ра...\n",
       "2           2  517  ['х', 'отрезк', 'параграф', 'обознач', 'функц'...\n",
       "3           3  517  ['°', 'двух', 'числ', 'свойств', 'тройк', 'дос...\n",
       "4           4  510  ['метаперемен', 'множеств', 'называ', 'проверк..."
      ]
     },
     "execution_count": 18,
     "metadata": {},
     "output_type": "execute_result"
    }
   ],
   "source": [
    "keywords_train.head()"
   ]
  },
  {
   "cell_type": "code",
   "execution_count": null,
   "metadata": {},
   "outputs": [],
   "source": []
  }
 ],
 "metadata": {
  "kernelspec": {
   "display_name": "Python 3",
   "language": "python",
   "name": "python3"
  },
  "language_info": {
   "codemirror_mode": {
    "name": "ipython",
    "version": 3
   },
   "file_extension": ".py",
   "mimetype": "text/x-python",
   "name": "python",
   "nbconvert_exporter": "python",
   "pygments_lexer": "ipython3",
   "version": "3.8.5"
  }
 },
 "nbformat": 4,
 "nbformat_minor": 4
}
